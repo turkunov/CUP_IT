{
  "nbformat": 4,
  "nbformat_minor": 0,
  "metadata": {
    "colab": {
      "provenance": []
    },
    "kernelspec": {
      "name": "python3",
      "display_name": "Python 3"
    },
    "language_info": {
      "name": "python"
    }
  },
  "cells": [
    {
      "cell_type": "code",
      "execution_count": 1,
      "metadata": {
        "colab": {
          "base_uri": "https://localhost:8080/"
        },
        "id": "od0IFLd0ZPVV",
        "outputId": "346e4253-4e58-44de-bb76-f5f5a85ec1be"
      },
      "outputs": [
        {
          "output_type": "stream",
          "name": "stdout",
          "text": [
            "Looking in indexes: https://pypi.org/simple, https://us-python.pkg.dev/colab-wheels/public/simple/\n",
            "Collecting transformers\n",
            "  Downloading transformers-4.27.1-py3-none-any.whl (6.7 MB)\n",
            "\u001b[2K     \u001b[90m━━━━━━━━━━━━━━━━━━━━━━━━━━━━━━━━━━━━━━━━\u001b[0m \u001b[32m6.7/6.7 MB\u001b[0m \u001b[31m41.6 MB/s\u001b[0m eta \u001b[36m0:00:00\u001b[0m\n",
            "\u001b[?25hCollecting huggingface-hub<1.0,>=0.11.0\n",
            "  Downloading huggingface_hub-0.13.2-py3-none-any.whl (199 kB)\n",
            "\u001b[2K     \u001b[90m━━━━━━━━━━━━━━━━━━━━━━━━━━━━━━━━━━━━━━\u001b[0m \u001b[32m199.2/199.2 KB\u001b[0m \u001b[31m11.2 MB/s\u001b[0m eta \u001b[36m0:00:00\u001b[0m\n",
            "\u001b[?25hRequirement already satisfied: regex!=2019.12.17 in /usr/local/lib/python3.9/dist-packages (from transformers) (2022.10.31)\n",
            "Requirement already satisfied: pyyaml>=5.1 in /usr/local/lib/python3.9/dist-packages (from transformers) (6.0)\n",
            "Requirement already satisfied: tqdm>=4.27 in /usr/local/lib/python3.9/dist-packages (from transformers) (4.65.0)\n",
            "Collecting tokenizers!=0.11.3,<0.14,>=0.11.1\n",
            "  Downloading tokenizers-0.13.2-cp39-cp39-manylinux_2_17_x86_64.manylinux2014_x86_64.whl (7.6 MB)\n",
            "\u001b[2K     \u001b[90m━━━━━━━━━━━━━━━━━━━━━━━━━━━━━━━━━━━━━━━━\u001b[0m \u001b[32m7.6/7.6 MB\u001b[0m \u001b[31m45.2 MB/s\u001b[0m eta \u001b[36m0:00:00\u001b[0m\n",
            "\u001b[?25hRequirement already satisfied: filelock in /usr/local/lib/python3.9/dist-packages (from transformers) (3.10.0)\n",
            "Requirement already satisfied: packaging>=20.0 in /usr/local/lib/python3.9/dist-packages (from transformers) (23.0)\n",
            "Requirement already satisfied: requests in /usr/local/lib/python3.9/dist-packages (from transformers) (2.27.1)\n",
            "Requirement already satisfied: numpy>=1.17 in /usr/local/lib/python3.9/dist-packages (from transformers) (1.22.4)\n",
            "Requirement already satisfied: typing-extensions>=3.7.4.3 in /usr/local/lib/python3.9/dist-packages (from huggingface-hub<1.0,>=0.11.0->transformers) (4.5.0)\n",
            "Requirement already satisfied: urllib3<1.27,>=1.21.1 in /usr/local/lib/python3.9/dist-packages (from requests->transformers) (1.26.15)\n",
            "Requirement already satisfied: certifi>=2017.4.17 in /usr/local/lib/python3.9/dist-packages (from requests->transformers) (2022.12.7)\n",
            "Requirement already satisfied: idna<4,>=2.5 in /usr/local/lib/python3.9/dist-packages (from requests->transformers) (3.4)\n",
            "Requirement already satisfied: charset-normalizer~=2.0.0 in /usr/local/lib/python3.9/dist-packages (from requests->transformers) (2.0.12)\n",
            "Installing collected packages: tokenizers, huggingface-hub, transformers\n",
            "Successfully installed huggingface-hub-0.13.2 tokenizers-0.13.2 transformers-4.27.1\n",
            "cpu\n"
          ]
        }
      ],
      "source": [
        "!pip install transformers\n",
        "from torchvision import datasets, transforms\n",
        "import torch\n",
        "import torch.nn as nn\n",
        "import torch.optim as optim\n",
        "from transformers import BertTokenizer, BertModel, BertConfig\n",
        "from torch.utils.data import DataLoader, random_split\n",
        "from sklearn.metrics import ndcg_score\n",
        "import matplotlib.pyplot as plt\n",
        "import pandas as pd\n",
        "import numpy as np\n",
        "DEVICE = torch.device(\"cuda:0\" if torch.cuda.is_available() else \"cpu\")\n",
        "print(DEVICE)"
      ]
    },
    {
      "cell_type": "code",
      "source": [
        "train = pd.read_json('/content/drive/MyDrive/CUP_IT/ranking_train.jsonl', lines=True)"
      ],
      "metadata": {
        "id": "VCUtfGC-ZUVQ"
      },
      "execution_count": 2,
      "outputs": []
    },
    {
      "cell_type": "code",
      "source": [
        "train = train.explode(column='comments')\n",
        "train['comment'] = train.comments.map(lambda dic: dic['text'])\n",
        "train['score'] = train.comments.map(lambda dic: dic['score'])\n",
        "train.drop(labels=['comments'], axis=1, inplace=True)\n",
        "train['full_text'] = train.text + ' |||| ' + train.comment\n",
        "train.head()"
      ],
      "metadata": {
        "colab": {
          "base_uri": "https://localhost:8080/",
          "height": 206
        },
        "id": "sG0NqFnLZaDm",
        "outputId": "9b364057-d830-476b-afd3-c831009af4a6"
      },
      "execution_count": 3,
      "outputs": [
        {
          "output_type": "execute_result",
          "data": {
            "text/plain": [
              "                                                text  \\\n",
              "0  How many summer Y Combinator fundees decided n...   \n",
              "0  How many summer Y Combinator fundees decided n...   \n",
              "0  How many summer Y Combinator fundees decided n...   \n",
              "0  How many summer Y Combinator fundees decided n...   \n",
              "0  How many summer Y Combinator fundees decided n...   \n",
              "\n",
              "                                             comment  score  \\\n",
              "0  Going back to school is not identical with giv...      0   \n",
              "0  There will invariably be those who don't see t...      1   \n",
              "0  For me school is a way to be connected to what...      2   \n",
              "0  I guess it really depends on how hungry you ar...      3   \n",
              "0  I know pollground decided to go back to school...      4   \n",
              "\n",
              "                                           full_text  \n",
              "0  How many summer Y Combinator fundees decided n...  \n",
              "0  How many summer Y Combinator fundees decided n...  \n",
              "0  How many summer Y Combinator fundees decided n...  \n",
              "0  How many summer Y Combinator fundees decided n...  \n",
              "0  How many summer Y Combinator fundees decided n...  "
            ],
            "text/html": [
              "\n",
              "  <div id=\"df-45cda2c5-9b43-4d6b-986c-ba4a8de53c4e\">\n",
              "    <div class=\"colab-df-container\">\n",
              "      <div>\n",
              "<style scoped>\n",
              "    .dataframe tbody tr th:only-of-type {\n",
              "        vertical-align: middle;\n",
              "    }\n",
              "\n",
              "    .dataframe tbody tr th {\n",
              "        vertical-align: top;\n",
              "    }\n",
              "\n",
              "    .dataframe thead th {\n",
              "        text-align: right;\n",
              "    }\n",
              "</style>\n",
              "<table border=\"1\" class=\"dataframe\">\n",
              "  <thead>\n",
              "    <tr style=\"text-align: right;\">\n",
              "      <th></th>\n",
              "      <th>text</th>\n",
              "      <th>comment</th>\n",
              "      <th>score</th>\n",
              "      <th>full_text</th>\n",
              "    </tr>\n",
              "  </thead>\n",
              "  <tbody>\n",
              "    <tr>\n",
              "      <th>0</th>\n",
              "      <td>How many summer Y Combinator fundees decided n...</td>\n",
              "      <td>Going back to school is not identical with giv...</td>\n",
              "      <td>0</td>\n",
              "      <td>How many summer Y Combinator fundees decided n...</td>\n",
              "    </tr>\n",
              "    <tr>\n",
              "      <th>0</th>\n",
              "      <td>How many summer Y Combinator fundees decided n...</td>\n",
              "      <td>There will invariably be those who don't see t...</td>\n",
              "      <td>1</td>\n",
              "      <td>How many summer Y Combinator fundees decided n...</td>\n",
              "    </tr>\n",
              "    <tr>\n",
              "      <th>0</th>\n",
              "      <td>How many summer Y Combinator fundees decided n...</td>\n",
              "      <td>For me school is a way to be connected to what...</td>\n",
              "      <td>2</td>\n",
              "      <td>How many summer Y Combinator fundees decided n...</td>\n",
              "    </tr>\n",
              "    <tr>\n",
              "      <th>0</th>\n",
              "      <td>How many summer Y Combinator fundees decided n...</td>\n",
              "      <td>I guess it really depends on how hungry you ar...</td>\n",
              "      <td>3</td>\n",
              "      <td>How many summer Y Combinator fundees decided n...</td>\n",
              "    </tr>\n",
              "    <tr>\n",
              "      <th>0</th>\n",
              "      <td>How many summer Y Combinator fundees decided n...</td>\n",
              "      <td>I know pollground decided to go back to school...</td>\n",
              "      <td>4</td>\n",
              "      <td>How many summer Y Combinator fundees decided n...</td>\n",
              "    </tr>\n",
              "  </tbody>\n",
              "</table>\n",
              "</div>\n",
              "      <button class=\"colab-df-convert\" onclick=\"convertToInteractive('df-45cda2c5-9b43-4d6b-986c-ba4a8de53c4e')\"\n",
              "              title=\"Convert this dataframe to an interactive table.\"\n",
              "              style=\"display:none;\">\n",
              "        \n",
              "  <svg xmlns=\"http://www.w3.org/2000/svg\" height=\"24px\"viewBox=\"0 0 24 24\"\n",
              "       width=\"24px\">\n",
              "    <path d=\"M0 0h24v24H0V0z\" fill=\"none\"/>\n",
              "    <path d=\"M18.56 5.44l.94 2.06.94-2.06 2.06-.94-2.06-.94-.94-2.06-.94 2.06-2.06.94zm-11 1L8.5 8.5l.94-2.06 2.06-.94-2.06-.94L8.5 2.5l-.94 2.06-2.06.94zm10 10l.94 2.06.94-2.06 2.06-.94-2.06-.94-.94-2.06-.94 2.06-2.06.94z\"/><path d=\"M17.41 7.96l-1.37-1.37c-.4-.4-.92-.59-1.43-.59-.52 0-1.04.2-1.43.59L10.3 9.45l-7.72 7.72c-.78.78-.78 2.05 0 2.83L4 21.41c.39.39.9.59 1.41.59.51 0 1.02-.2 1.41-.59l7.78-7.78 2.81-2.81c.8-.78.8-2.07 0-2.86zM5.41 20L4 18.59l7.72-7.72 1.47 1.35L5.41 20z\"/>\n",
              "  </svg>\n",
              "      </button>\n",
              "      \n",
              "  <style>\n",
              "    .colab-df-container {\n",
              "      display:flex;\n",
              "      flex-wrap:wrap;\n",
              "      gap: 12px;\n",
              "    }\n",
              "\n",
              "    .colab-df-convert {\n",
              "      background-color: #E8F0FE;\n",
              "      border: none;\n",
              "      border-radius: 50%;\n",
              "      cursor: pointer;\n",
              "      display: none;\n",
              "      fill: #1967D2;\n",
              "      height: 32px;\n",
              "      padding: 0 0 0 0;\n",
              "      width: 32px;\n",
              "    }\n",
              "\n",
              "    .colab-df-convert:hover {\n",
              "      background-color: #E2EBFA;\n",
              "      box-shadow: 0px 1px 2px rgba(60, 64, 67, 0.3), 0px 1px 3px 1px rgba(60, 64, 67, 0.15);\n",
              "      fill: #174EA6;\n",
              "    }\n",
              "\n",
              "    [theme=dark] .colab-df-convert {\n",
              "      background-color: #3B4455;\n",
              "      fill: #D2E3FC;\n",
              "    }\n",
              "\n",
              "    [theme=dark] .colab-df-convert:hover {\n",
              "      background-color: #434B5C;\n",
              "      box-shadow: 0px 1px 3px 1px rgba(0, 0, 0, 0.15);\n",
              "      filter: drop-shadow(0px 1px 2px rgba(0, 0, 0, 0.3));\n",
              "      fill: #FFFFFF;\n",
              "    }\n",
              "  </style>\n",
              "\n",
              "      <script>\n",
              "        const buttonEl =\n",
              "          document.querySelector('#df-45cda2c5-9b43-4d6b-986c-ba4a8de53c4e button.colab-df-convert');\n",
              "        buttonEl.style.display =\n",
              "          google.colab.kernel.accessAllowed ? 'block' : 'none';\n",
              "\n",
              "        async function convertToInteractive(key) {\n",
              "          const element = document.querySelector('#df-45cda2c5-9b43-4d6b-986c-ba4a8de53c4e');\n",
              "          const dataTable =\n",
              "            await google.colab.kernel.invokeFunction('convertToInteractive',\n",
              "                                                     [key], {});\n",
              "          if (!dataTable) return;\n",
              "\n",
              "          const docLinkHtml = 'Like what you see? Visit the ' +\n",
              "            '<a target=\"_blank\" href=https://colab.research.google.com/notebooks/data_table.ipynb>data table notebook</a>'\n",
              "            + ' to learn more about interactive tables.';\n",
              "          element.innerHTML = '';\n",
              "          dataTable['output_type'] = 'display_data';\n",
              "          await google.colab.output.renderOutput(dataTable, element);\n",
              "          const docLink = document.createElement('div');\n",
              "          docLink.innerHTML = docLinkHtml;\n",
              "          element.appendChild(docLink);\n",
              "        }\n",
              "      </script>\n",
              "    </div>\n",
              "  </div>\n",
              "  "
            ]
          },
          "metadata": {},
          "execution_count": 3
        }
      ]
    },
    {
      "cell_type": "code",
      "source": [
        "features = torch.load('/content/drive/MyDrive/CUP_IT/NEW_BERT_train_tensors/440535.pt')\n",
        "len(features)"
      ],
      "metadata": {
        "colab": {
          "base_uri": "https://localhost:8080/"
        },
        "id": "lKTuMFMlmdVT",
        "outputId": "c18dfeaf-69b9-4ade-e77d-e3bb2219318e"
      },
      "execution_count": 4,
      "outputs": [
        {
          "output_type": "execute_result",
          "data": {
            "text/plain": [
              "440535"
            ]
          },
          "metadata": {},
          "execution_count": 4
        }
      ]
    },
    {
      "cell_type": "code",
      "source": [
        "target = torch.tensor(train['score'].astype(np.int32).values).type(torch.LongTensor)"
      ],
      "metadata": {
        "id": "vNOb6QsvZjSg"
      },
      "execution_count": 5,
      "outputs": []
    },
    {
      "cell_type": "code",
      "source": [
        "b = torch.Tensor(len(features), 1, 128)\n",
        "torch.cat(features, out=b)\n",
        "train = torch.utils.data.TensorDataset(b, target)"
      ],
      "metadata": {
        "colab": {
          "base_uri": "https://localhost:8080/"
        },
        "id": "nzrXvDsMaA-m",
        "outputId": "33e1154e-f82f-43ac-b568-f737ebf954ab"
      },
      "execution_count": 6,
      "outputs": [
        {
          "output_type": "stream",
          "name": "stderr",
          "text": [
            "<ipython-input-6-ea6af01ef47a>:2: UserWarning: An output with one or more elements was resized since it had shape [440535, 1, 128], which does not match the required output shape [440535, 128]. This behavior is deprecated, and in a future PyTorch release outputs will not be resized unless they have zero elements. You can explicitly reuse an out tensor t by resizing it, inplace, to zero elements with t.resize_(0). (Triggered internally at ../aten/src/ATen/native/Resize.cpp:17.)\n",
            "  torch.cat(features, out=b)\n"
          ]
        }
      ]
    },
    {
      "cell_type": "code",
      "source": [
        "# выделим из тренировочного датасета 20% данных для валидации\n",
        "valid_ratio = 0.2\n",
        "num_valid =  int(valid_ratio * len(train))\n",
        "num_train = len(train) - num_valid\n",
        "\n",
        "train_dataset, valid_dataset = random_split(dataset=train, lengths=[num_train, num_valid])"
      ],
      "metadata": {
        "id": "R0PcWGmTaCjn"
      },
      "execution_count": 7,
      "outputs": []
    },
    {
      "cell_type": "code",
      "source": [
        "batch_size = 100\n",
        "train_loader = DataLoader(train_dataset, batch_size=batch_size)\n",
        "valid_loader = DataLoader(valid_dataset, batch_size=batch_size)"
      ],
      "metadata": {
        "id": "0bbFnwCAaD7x"
      },
      "execution_count": 8,
      "outputs": []
    },
    {
      "cell_type": "code",
      "source": [
        "def train_func(model, loader, loss_function, optimizer, scheduler):\n",
        "    model.train()\n",
        "\n",
        "    epoch_loss = 0\n",
        "\n",
        "    for inputs in loader:\n",
        "        inputs, targets = inputs[0].float().to(DEVICE), inputs[1].to(DEVICE)\n",
        "        outputs = model(inputs)\n",
        "\n",
        "        loss = loss_function(outputs, targets)\n",
        "\n",
        "        optimizer.zero_grad()\n",
        "        loss.backward()\n",
        "        optimizer.step()\n",
        "        \n",
        "        epoch_loss += loss.item()\n",
        "    scheduler.step(epoch_loss)\n",
        "    return epoch_loss / len(loader)"
      ],
      "metadata": {
        "id": "aNR_A3-MaGvV"
      },
      "execution_count": 9,
      "outputs": []
    },
    {
      "cell_type": "code",
      "source": [
        "def test(model, loader, loss_function):\n",
        "    with torch.no_grad():\n",
        "        model.eval()\n",
        "        N = 0\n",
        "        total_loss = 0.0\n",
        "        correct = 0.0\n",
        "        for i, inputs in enumerate(loader):\n",
        "            inputs, targets = inputs[0].float().to(DEVICE), inputs[1].to(DEVICE)\n",
        "            outputs = model(inputs)\n",
        "            N += inputs.shape[0]\n",
        "            loss = loss_function(outputs, targets)\n",
        "            total_loss += inputs.shape[0] * loss.item()\n",
        "            predicted_targets = outputs.argmax(dim=1)\n",
        "            correct += (predicted_targets == targets).sum().item()\n",
        "        return total_loss / N, correct / N"
      ],
      "metadata": {
        "id": "cmw1lKvJaH--"
      },
      "execution_count": 10,
      "outputs": []
    },
    {
      "cell_type": "code",
      "source": [
        "class NeuralNet(nn.Module):\n",
        "    def __init__(self, input_size, hidden_size, num_classes):\n",
        "        super(NeuralNet, self).__init__()\n",
        "        self.fc1 = nn.Linear(input_size, hidden_size) \n",
        "        self.dropout = nn.Dropout()\n",
        "        self.relu = nn.ReLU()\n",
        "        self.norm = nn.BatchNorm1d(hidden_size, hidden_size)\n",
        "        self.fc2 = nn.Linear(hidden_size, num_classes)\n",
        "        self.fc3 = nn.LogSoftmax()\n",
        "    \n",
        "    def forward(self, x):\n",
        "        out = self.fc1(x)\n",
        "        out = self.dropout(out)\n",
        "        out = self.relu(out)\n",
        "        out = self.norm(out)\n",
        "        out = self.fc2(out)\n",
        "        out = self.fc3(out)\n",
        "        return out"
      ],
      "metadata": {
        "id": "BDdbZVakaJQU"
      },
      "execution_count": 11,
      "outputs": []
    },
    {
      "cell_type": "code",
      "source": [
        "input_size = 128\n",
        "hidden_size = 64\n",
        "num_classes = 5\n",
        "#model = BertModel.from_pretrained(\"bert-base-uncased\", num_labels = 5, output_attentions = False, output_hidden_states = False).to(DEVICE)\n",
        "\n",
        "model = NeuralNet(input_size, hidden_size, num_classes).to(DEVICE)\n",
        "\n",
        "criterion = nn.CrossEntropyLoss()\n",
        "optimizer = optim.Adam(model.parameters(), lr=.01, weight_decay=0.01)\n",
        "scheduler = optim.lr_scheduler.ReduceLROnPlateau(optimizer, 'min')"
      ],
      "metadata": {
        "id": "HLEOLsGSaKZn"
      },
      "execution_count": 12,
      "outputs": []
    },
    {
      "cell_type": "code",
      "source": [
        "num_epochs = 100\n",
        "train_losses = []\n",
        "val_losses = []\n",
        "for epoch in range(num_epochs):\n",
        "    train_loss = train_func(model, loader=train_loader, loss_function=criterion, optimizer=optimizer, scheduler=scheduler)\n",
        "    val_loss, val_acc = test(model=model, loader=valid_loader, loss_function=criterion)\n",
        "    train_losses.append(train_loss)\n",
        "    val_losses.append(val_loss)\n",
        "    print(f'Epoch {epoch}')\n",
        "    print(f'Train Loss {train_loss:.6f} Val Loss {val_loss:.6f} Val Accuracy {val_acc:.6f}')\n",
        "    print('---')\n",
        "\n",
        "#test_loss, test_acc = test(model=model, loader=test_loader, loss_function=criterion)\n",
        "#print(f'Test Loss {test_loss:.6f} Test Accuracy {test_acc:.6f}')"
      ],
      "metadata": {
        "colab": {
          "base_uri": "https://localhost:8080/"
        },
        "id": "9iUddk9qaMsi",
        "outputId": "210f313a-a5fb-4672-bb97-14789214d955"
      },
      "execution_count": 13,
      "outputs": [
        {
          "output_type": "stream",
          "name": "stderr",
          "text": [
            "<ipython-input-11-412bacf8e47b>:17: UserWarning: Implicit dimension choice for log_softmax has been deprecated. Change the call to include dim=X as an argument.\n",
            "  out = self.fc3(out)\n"
          ]
        },
        {
          "output_type": "stream",
          "name": "stdout",
          "text": [
            "Epoch 0\n",
            "Train Loss 1.578087 Val Loss 1.566165 Val Accuracy 0.283576\n",
            "---\n",
            "Epoch 1\n",
            "Train Loss 1.579450 Val Loss 1.569992 Val Accuracy 0.281578\n",
            "---\n",
            "Epoch 2\n",
            "Train Loss 1.579994 Val Loss 1.570094 Val Accuracy 0.281737\n",
            "---\n",
            "Epoch 3\n",
            "Train Loss 1.580415 Val Loss 1.567750 Val Accuracy 0.282112\n",
            "---\n",
            "Epoch 4\n",
            "Train Loss 1.580070 Val Loss 1.573121 Val Accuracy 0.279910\n",
            "---\n",
            "Epoch 5\n",
            "Train Loss 1.580541 Val Loss 1.570481 Val Accuracy 0.281487\n",
            "---\n",
            "Epoch 6\n",
            "Train Loss 1.579837 Val Loss 1.574265 Val Accuracy 0.276278\n",
            "---\n",
            "Epoch 7\n",
            "Train Loss 1.579937 Val Loss 1.572906 Val Accuracy 0.279649\n",
            "---\n",
            "Epoch 8\n",
            "Train Loss 1.580500 Val Loss 1.572729 Val Accuracy 0.281442\n",
            "---\n",
            "Epoch 9\n",
            "Train Loss 1.580640 Val Loss 1.570262 Val Accuracy 0.281975\n",
            "---\n",
            "Epoch 10\n",
            "Train Loss 1.580332 Val Loss 1.571088 Val Accuracy 0.281487\n",
            "---\n",
            "Epoch 11\n",
            "Train Loss 1.581025 Val Loss 1.567444 Val Accuracy 0.282066\n",
            "---\n",
            "Epoch 12\n",
            "Train Loss 1.570645 Val Loss 1.564916 Val Accuracy 0.284699\n",
            "---\n",
            "Epoch 13\n",
            "Train Loss 1.569619 Val Loss 1.563933 Val Accuracy 0.284223\n",
            "---\n",
            "Epoch 14\n",
            "Train Loss 1.569596 Val Loss 1.563216 Val Accuracy 0.284313\n",
            "---\n",
            "Epoch 15\n",
            "Train Loss 1.569023 Val Loss 1.564114 Val Accuracy 0.284756\n",
            "---\n",
            "Epoch 16\n",
            "Train Loss 1.569171 Val Loss 1.563939 Val Accuracy 0.283871\n",
            "---\n",
            "Epoch 17\n",
            "Train Loss 1.568370 Val Loss 1.563419 Val Accuracy 0.284381\n",
            "---\n",
            "Epoch 18\n",
            "Train Loss 1.568342 Val Loss 1.562998 Val Accuracy 0.284007\n",
            "---\n",
            "Epoch 19\n",
            "Train Loss 1.568587 Val Loss 1.563664 Val Accuracy 0.284325\n",
            "---\n",
            "Epoch 20\n",
            "Train Loss 1.568605 Val Loss 1.564307 Val Accuracy 0.284416\n",
            "---\n",
            "Epoch 21\n",
            "Train Loss 1.568483 Val Loss 1.564181 Val Accuracy 0.284381\n",
            "---\n",
            "Epoch 22\n",
            "Train Loss 1.567784 Val Loss 1.564230 Val Accuracy 0.283893\n",
            "---\n",
            "Epoch 23\n",
            "Train Loss 1.567888 Val Loss 1.563431 Val Accuracy 0.284211\n",
            "---\n",
            "Epoch 24\n",
            "Train Loss 1.567798 Val Loss 1.563769 Val Accuracy 0.283916\n",
            "---\n",
            "Epoch 25\n",
            "Train Loss 1.568029 Val Loss 1.563421 Val Accuracy 0.283871\n",
            "---\n",
            "Epoch 26\n",
            "Train Loss 1.567753 Val Loss 1.563394 Val Accuracy 0.283712\n",
            "---\n",
            "Epoch 27\n",
            "Train Loss 1.567416 Val Loss 1.563168 Val Accuracy 0.284381\n",
            "---\n",
            "Epoch 28\n",
            "Train Loss 1.567307 Val Loss 1.562904 Val Accuracy 0.284245\n",
            "---\n",
            "Epoch 29\n",
            "Train Loss 1.567095 Val Loss 1.562972 Val Accuracy 0.283984\n",
            "---\n",
            "Epoch 30\n",
            "Train Loss 1.567103 Val Loss 1.562956 Val Accuracy 0.283950\n",
            "---\n",
            "Epoch 31\n",
            "Train Loss 1.567233 Val Loss 1.562439 Val Accuracy 0.284234\n",
            "---\n",
            "Epoch 32\n",
            "Train Loss 1.567559 Val Loss 1.562734 Val Accuracy 0.284529\n",
            "---\n",
            "Epoch 33\n",
            "Train Loss 1.567670 Val Loss 1.563246 Val Accuracy 0.284109\n",
            "---\n",
            "Epoch 34\n",
            "Train Loss 1.567596 Val Loss 1.563476 Val Accuracy 0.284075\n",
            "---\n",
            "Epoch 35\n",
            "Train Loss 1.567682 Val Loss 1.563775 Val Accuracy 0.284552\n",
            "---\n",
            "Epoch 36\n",
            "Train Loss 1.567748 Val Loss 1.563636 Val Accuracy 0.284075\n",
            "---\n",
            "Epoch 37\n",
            "Train Loss 1.567691 Val Loss 1.563174 Val Accuracy 0.283996\n",
            "---\n",
            "Epoch 38\n",
            "Train Loss 1.567372 Val Loss 1.562676 Val Accuracy 0.284279\n",
            "---\n",
            "Epoch 39\n",
            "Train Loss 1.567614 Val Loss 1.564656 Val Accuracy 0.284347\n",
            "---\n",
            "Epoch 40\n",
            "Train Loss 1.567744 Val Loss 1.563945 Val Accuracy 0.283371\n",
            "---\n",
            "Epoch 41\n",
            "Train Loss 1.566180 Val Loss 1.562747 Val Accuracy 0.285789\n",
            "---\n",
            "Epoch 42\n",
            "Train Loss 1.565925 Val Loss 1.562895 Val Accuracy 0.285516\n",
            "---\n",
            "Epoch 43\n",
            "Train Loss 1.565708 Val Loss 1.562560 Val Accuracy 0.285880\n",
            "---\n",
            "Epoch 44\n",
            "Train Loss 1.565235 Val Loss 1.562664 Val Accuracy 0.285664\n",
            "---\n",
            "Epoch 45\n",
            "Train Loss 1.565572 Val Loss 1.562803 Val Accuracy 0.285959\n",
            "---\n",
            "Epoch 46\n",
            "Train Loss 1.565494 Val Loss 1.562600 Val Accuracy 0.286095\n",
            "---\n",
            "Epoch 47\n",
            "Train Loss 1.565488 Val Loss 1.562737 Val Accuracy 0.286220\n",
            "---\n",
            "Epoch 48\n",
            "Train Loss 1.565645 Val Loss 1.562727 Val Accuracy 0.286095\n",
            "---\n",
            "Epoch 49\n",
            "Train Loss 1.565582 Val Loss 1.562484 Val Accuracy 0.285653\n",
            "---\n",
            "Epoch 50\n",
            "Train Loss 1.565590 Val Loss 1.562619 Val Accuracy 0.285755\n",
            "---\n",
            "Epoch 51\n",
            "Train Loss 1.565566 Val Loss 1.562805 Val Accuracy 0.285585\n",
            "---\n",
            "Epoch 52\n",
            "Train Loss 1.565279 Val Loss 1.562551 Val Accuracy 0.285834\n",
            "---\n",
            "Epoch 53\n",
            "Train Loss 1.565187 Val Loss 1.562688 Val Accuracy 0.285880\n",
            "---\n",
            "Epoch 54\n",
            "Train Loss 1.565277 Val Loss 1.562820 Val Accuracy 0.285800\n",
            "---\n",
            "Epoch 55\n",
            "Train Loss 1.565245 Val Loss 1.562479 Val Accuracy 0.285936\n",
            "---\n",
            "Epoch 56\n",
            "Train Loss 1.564936 Val Loss 1.562315 Val Accuracy 0.285959\n",
            "---\n",
            "Epoch 57\n",
            "Train Loss 1.564560 Val Loss 1.562335 Val Accuracy 0.286220\n",
            "---\n",
            "Epoch 58\n",
            "Train Loss 1.564695 Val Loss 1.562637 Val Accuracy 0.285619\n",
            "---\n",
            "Epoch 59\n",
            "Train Loss 1.564525 Val Loss 1.562423 Val Accuracy 0.285846\n",
            "---\n",
            "Epoch 60\n",
            "Train Loss 1.564586 Val Loss 1.562108 Val Accuracy 0.285948\n",
            "---\n",
            "Epoch 61\n",
            "Train Loss 1.564415 Val Loss 1.562346 Val Accuracy 0.285857\n",
            "---\n",
            "Epoch 62\n",
            "Train Loss 1.564653 Val Loss 1.562210 Val Accuracy 0.286084\n",
            "---\n",
            "Epoch 63\n",
            "Train Loss 1.564532 Val Loss 1.562075 Val Accuracy 0.286356\n",
            "---\n",
            "Epoch 64\n",
            "Train Loss 1.564479 Val Loss 1.562322 Val Accuracy 0.286061\n",
            "---\n",
            "Epoch 65\n",
            "Train Loss 1.564691 Val Loss 1.562471 Val Accuracy 0.285766\n",
            "---\n",
            "Epoch 66\n",
            "Train Loss 1.564468 Val Loss 1.562172 Val Accuracy 0.285721\n",
            "---\n",
            "Epoch 67\n",
            "Train Loss 1.564620 Val Loss 1.562349 Val Accuracy 0.286141\n",
            "---\n",
            "Epoch 68\n",
            "Train Loss 1.564477 Val Loss 1.562391 Val Accuracy 0.285653\n",
            "---\n",
            "Epoch 69\n",
            "Train Loss 1.564465 Val Loss 1.562316 Val Accuracy 0.286322\n",
            "---\n",
            "Epoch 70\n",
            "Train Loss 1.564158 Val Loss 1.562077 Val Accuracy 0.286379\n",
            "---\n",
            "Epoch 71\n",
            "Train Loss 1.564248 Val Loss 1.562208 Val Accuracy 0.286084\n",
            "---\n",
            "Epoch 72\n",
            "Train Loss 1.564369 Val Loss 1.562450 Val Accuracy 0.285880\n",
            "---\n",
            "Epoch 73\n",
            "Train Loss 1.564335 Val Loss 1.562160 Val Accuracy 0.285834\n",
            "---\n",
            "Epoch 74\n",
            "Train Loss 1.564297 Val Loss 1.562210 Val Accuracy 0.285914\n",
            "---\n",
            "Epoch 75\n",
            "Train Loss 1.564205 Val Loss 1.562208 Val Accuracy 0.286402\n",
            "---\n",
            "Epoch 76\n",
            "Train Loss 1.564557 Val Loss 1.562302 Val Accuracy 0.286095\n",
            "---\n",
            "Epoch 77\n",
            "Train Loss 1.564361 Val Loss 1.562214 Val Accuracy 0.286141\n",
            "---\n",
            "Epoch 78\n",
            "Train Loss 1.564432 Val Loss 1.562326 Val Accuracy 0.286027\n",
            "---\n",
            "Epoch 79\n",
            "Train Loss 1.564308 Val Loss 1.562247 Val Accuracy 0.285970\n",
            "---\n",
            "Epoch 80\n",
            "Train Loss 1.564399 Val Loss 1.562299 Val Accuracy 0.286266\n",
            "---\n",
            "Epoch 81\n",
            "Train Loss 1.564326 Val Loss 1.562216 Val Accuracy 0.286186\n",
            "---\n",
            "Epoch 82\n",
            "Train Loss 1.564319 Val Loss 1.562027 Val Accuracy 0.286197\n",
            "---\n",
            "Epoch 83\n",
            "Train Loss 1.564223 Val Loss 1.562095 Val Accuracy 0.286651\n",
            "---\n",
            "Epoch 84\n",
            "Train Loss 1.564301 Val Loss 1.562201 Val Accuracy 0.286742\n",
            "---\n",
            "Epoch 85\n",
            "Train Loss 1.564472 Val Loss 1.562145 Val Accuracy 0.286504\n",
            "---\n",
            "Epoch 86\n",
            "Train Loss 1.564195 Val Loss 1.562122 Val Accuracy 0.285993\n",
            "---\n",
            "Epoch 87\n",
            "Train Loss 1.564314 Val Loss 1.562061 Val Accuracy 0.286300\n",
            "---\n",
            "Epoch 88\n",
            "Train Loss 1.564238 Val Loss 1.562178 Val Accuracy 0.286424\n",
            "---\n",
            "Epoch 89\n",
            "Train Loss 1.564359 Val Loss 1.562208 Val Accuracy 0.286436\n",
            "---\n",
            "Epoch 90\n",
            "Train Loss 1.564222 Val Loss 1.562202 Val Accuracy 0.286459\n",
            "---\n",
            "Epoch 91\n",
            "Train Loss 1.564364 Val Loss 1.562320 Val Accuracy 0.286061\n",
            "---\n",
            "Epoch 92\n",
            "Train Loss 1.564332 Val Loss 1.562220 Val Accuracy 0.286481\n",
            "---\n",
            "Epoch 93\n",
            "Train Loss 1.564232 Val Loss 1.562230 Val Accuracy 0.286424\n",
            "---\n",
            "Epoch 94\n",
            "Train Loss 1.564183 Val Loss 1.562265 Val Accuracy 0.285857\n",
            "---\n",
            "Epoch 95\n",
            "Train Loss 1.564411 Val Loss 1.562065 Val Accuracy 0.286833\n",
            "---\n",
            "Epoch 96\n",
            "Train Loss 1.564511 Val Loss 1.562168 Val Accuracy 0.286493\n",
            "---\n",
            "Epoch 97\n",
            "Train Loss 1.564190 Val Loss 1.562436 Val Accuracy 0.285868\n",
            "---\n",
            "Epoch 98\n",
            "Train Loss 1.564069 Val Loss 1.562147 Val Accuracy 0.286470\n",
            "---\n",
            "Epoch 99\n",
            "Train Loss 1.564308 Val Loss 1.562129 Val Accuracy 0.286266\n",
            "---\n"
          ]
        }
      ]
    },
    {
      "cell_type": "code",
      "source": [
        "for i in train_loader:\n",
        "  outputs = model(i[0])\n",
        "        # the class with the highest energy is what we choose as prediction\n",
        "  _, predicted = torch.max(outputs.data, 1)\n",
        "  print(i[1])\n",
        "  print(round(ndcg_score([np.asarray(i[1])], [np.asarray(predicted)]), 2))\n",
        "  break"
      ],
      "metadata": {
        "colab": {
          "base_uri": "https://localhost:8080/"
        },
        "id": "tLXxHsilaN_i",
        "outputId": "ee41c972-16df-4e97-b13b-ee61eb0fd8b0"
      },
      "execution_count": 14,
      "outputs": [
        {
          "output_type": "stream",
          "name": "stdout",
          "text": [
            "tensor([2, 2, 0, 3, 4, 0, 1, 1, 1, 4, 4, 3, 1, 3, 3, 0, 0, 1, 3, 2, 3, 2, 1, 4,\n",
            "        1, 1, 2, 1, 4, 4, 1, 1, 3, 3, 4, 4, 2, 4, 0, 0, 0, 2, 3, 2, 0, 3, 3, 0,\n",
            "        2, 1, 2, 3, 0, 0, 4, 1, 0, 3, 0, 4, 1, 3, 1, 1, 4, 0, 4, 4, 0, 1, 1, 3,\n",
            "        4, 2, 1, 1, 1, 1, 4, 2, 1, 3, 2, 4, 1, 3, 4, 2, 2, 1, 1, 3, 0, 1, 3, 2,\n",
            "        0, 3, 4, 4])\n",
            "0.86\n"
          ]
        },
        {
          "output_type": "stream",
          "name": "stderr",
          "text": [
            "<ipython-input-11-412bacf8e47b>:17: UserWarning: Implicit dimension choice for log_softmax has been deprecated. Change the call to include dim=X as an argument.\n",
            "  out = self.fc3(out)\n"
          ]
        }
      ]
    },
    {
      "cell_type": "code",
      "source": [
        "test_embeddings = torch.load('/content/drive/MyDrive/CUP_IT/NEW_BERT_test_tensors/10000.pt')\n",
        "\n",
        "test_tensor = torch.Tensor(len(test_embeddings), 1, 128)\n",
        "torch.cat(test_embeddings, out=test_tensor)"
      ],
      "metadata": {
        "colab": {
          "base_uri": "https://localhost:8080/"
        },
        "id": "k8PVjqNYx3mn",
        "outputId": "6590c0fb-2cbd-49d8-a1d7-43d30acdab12"
      },
      "execution_count": 26,
      "outputs": [
        {
          "output_type": "stream",
          "name": "stderr",
          "text": [
            "<ipython-input-26-764b4607f17d>:4: UserWarning: An output with one or more elements was resized since it had shape [10000, 1, 128], which does not match the required output shape [10000, 128]. This behavior is deprecated, and in a future PyTorch release outputs will not be resized unless they have zero elements. You can explicitly reuse an out tensor t by resizing it, inplace, to zero elements with t.resize_(0). (Triggered internally at ../aten/src/ATen/native/Resize.cpp:17.)\n",
            "  torch.cat(test_embeddings, out=test_tensor)\n"
          ]
        },
        {
          "output_type": "execute_result",
          "data": {
            "text/plain": [
              "tensor([[  101., 16380.,  1022.,  ...,     0.,     0.,     0.],\n",
              "        [  101., 16380.,  1022.,  ...,     0.,     0.,     0.],\n",
              "        [  101., 16380.,  1022.,  ...,     0.,     0.,     0.],\n",
              "        ...,\n",
              "        [  101.,  1045.,  8046.,  ...,     0.,     0.,     0.],\n",
              "        [  101.,  1045.,  8046.,  ...,     0.,     0.,     0.],\n",
              "        [  101.,  1045.,  8046.,  ...,  2018.,  2227.,   102.]])"
            ]
          },
          "metadata": {},
          "execution_count": 26
        }
      ]
    },
    {
      "cell_type": "code",
      "source": [
        "test_paths = ['/content/drive/MyDrive/CUP_IT/NEW_BERT_test_tensors/70000.pt', '/content/drive/MyDrive/CUP_IT/NEW_BERT_test_tensors/70020.pt']"
      ],
      "metadata": {
        "id": "9wBD_Z8A_lqg"
      },
      "execution_count": 34,
      "outputs": []
    },
    {
      "cell_type": "code",
      "source": [
        "test_all = []\n",
        "\n",
        "for path in test_paths:\n",
        "  temp = torch.load(path)\n",
        "  for i in temp:\n",
        "    test_all.append(i)"
      ],
      "metadata": {
        "id": "trblAZBDAQ2p"
      },
      "execution_count": 35,
      "outputs": []
    },
    {
      "cell_type": "code",
      "source": [
        "test_tensor = torch.Tensor(len(test_all), 1, 128)\n",
        "torch.cat(test_all, out=test_tensor)"
      ],
      "metadata": {
        "colab": {
          "base_uri": "https://localhost:8080/"
        },
        "id": "Yy0dgShQAcqF",
        "outputId": "b757262a-bc1d-4b66-9053-66e9075d54f5"
      },
      "execution_count": 37,
      "outputs": [
        {
          "output_type": "stream",
          "name": "stderr",
          "text": [
            "<ipython-input-37-1c57545e67df>:2: UserWarning: An output with one or more elements was resized since it had shape [70020, 1, 128], which does not match the required output shape [70020, 128]. This behavior is deprecated, and in a future PyTorch release outputs will not be resized unless they have zero elements. You can explicitly reuse an out tensor t by resizing it, inplace, to zero elements with t.resize_(0). (Triggered internally at ../aten/src/ATen/native/Resize.cpp:17.)\n",
            "  torch.cat(test_all, out=test_tensor)\n"
          ]
        },
        {
          "output_type": "execute_result",
          "data": {
            "text/plain": [
              "tensor([[  101., 16380.,  1022.,  ...,     0.,     0.,     0.],\n",
              "        [  101., 16380.,  1022.,  ...,     0.,     0.,     0.],\n",
              "        [  101., 16380.,  1022.,  ...,     0.,     0.,     0.],\n",
              "        ...,\n",
              "        [  101.,  2339.,  2515.,  ...,     0.,     0.,     0.],\n",
              "        [  101.,  2339.,  2515.,  ...,     0.,     0.,     0.],\n",
              "        [  101.,  2339.,  2515.,  ...,     0.,     0.,     0.]])"
            ]
          },
          "metadata": {},
          "execution_count": 37
        }
      ]
    },
    {
      "cell_type": "code",
      "source": [
        "outputs = model(test_tensor)\n",
        "\n",
        "_, predicted = torch.max(outputs, 1)"
      ],
      "metadata": {
        "colab": {
          "base_uri": "https://localhost:8080/"
        },
        "id": "5jxcu-Ml-7q_",
        "outputId": "686ae7fa-fa3e-4a64-a4d5-7744512d224e"
      },
      "execution_count": 39,
      "outputs": [
        {
          "output_type": "stream",
          "name": "stderr",
          "text": [
            "<ipython-input-11-412bacf8e47b>:17: UserWarning: Implicit dimension choice for log_softmax has been deprecated. Change the call to include dim=X as an argument.\n",
            "  out = self.fc3(out)\n"
          ]
        }
      ]
    },
    {
      "cell_type": "code",
      "source": [
        "predicted"
      ],
      "metadata": {
        "colab": {
          "base_uri": "https://localhost:8080/"
        },
        "id": "NNb8zWCR_OWx",
        "outputId": "df3db00f-6347-497d-e33a-2a3a7bb994b0"
      },
      "execution_count": 40,
      "outputs": [
        {
          "output_type": "execute_result",
          "data": {
            "text/plain": [
              "tensor([4, 0, 4,  ..., 4, 0, 4])"
            ]
          },
          "metadata": {},
          "execution_count": 40
        }
      ]
    },
    {
      "cell_type": "code",
      "source": [
        "import pandas as pd\n",
        "filepath_to_json = '/content/drive/MyDrive/CUP_IT/ranking_test.jsonl'\n",
        "test = pd.read_json(filepath_to_json, lines=True)"
      ],
      "metadata": {
        "id": "4sBgoK8eBUL0"
      },
      "execution_count": 44,
      "outputs": []
    },
    {
      "cell_type": "code",
      "source": [
        "test = test.explode(column='comments')\n",
        "test['comment'] = test.comments.map(lambda dic: dic['text'])\n",
        "test['score'] = test.comments.map(lambda dic: dic['score'])\n",
        "test.shape"
      ],
      "metadata": {
        "colab": {
          "base_uri": "https://localhost:8080/"
        },
        "id": "3ddjb03OBhDP",
        "outputId": "5548ccde-df01-4e41-8c86-02e7e507340c"
      },
      "execution_count": 45,
      "outputs": [
        {
          "output_type": "execute_result",
          "data": {
            "text/plain": [
              "(70020, 4)"
            ]
          },
          "metadata": {},
          "execution_count": 45
        }
      ]
    },
    {
      "cell_type": "code",
      "source": [
        "test['score'] = predicted\n",
        "ungrouped_table = pd.DataFrame(test.groupby(test.index))\n",
        "ungrouped_table[1] = ungrouped_table[1].apply(lambda ser: {\n",
        "        'text': ser['text'].unique()[0],\n",
        "        'comments': [\n",
        "                {'text': comment, 'score': score}\n",
        "                for comment, score in zip(ser['comment'], ser['score'])\n",
        "        ]\n",
        "    } \n",
        ")\n",
        "grouped_table = pd.DataFrame(ungrouped_table[1].tolist())\n",
        "with open('/content/drive/MyDrive/CUP_IT/output_grouped.jsonl', \"w\", encoding='utf-8') as f:\n",
        "    f.write(grouped_table.to_json(orient='records', lines=True))"
      ],
      "metadata": {
        "id": "J9tFZmCDCR6S"
      },
      "execution_count": 67,
      "outputs": []
    },
    {
      "cell_type": "code",
      "source": [
        "grouped_table"
      ],
      "metadata": {
        "colab": {
          "base_uri": "https://localhost:8080/",
          "height": 423
        },
        "id": "1aBMBbdlDEa_",
        "outputId": "3d339fbb-0f0e-4969-8f5e-9eef1fd522db"
      },
      "execution_count": 68,
      "outputs": [
        {
          "output_type": "execute_result",
          "data": {
            "text/plain": [
              "                                                    text  \\\n",
              "0      iOS 8.0.1 released, broken on iPhone 6 models,...   \n",
              "1      Ask HN: How do US HNers get their health insur...   \n",
              "2      San Diego Researcher Crowdfunding Patent-Free ...   \n",
              "3                 Rethinking the origins of the universe   \n",
              "4      SlackTextViewController: A new growing text in...   \n",
              "...                                                  ...   \n",
              "13999                                    The cat's miaow   \n",
              "14000                          Facebook’s Piracy Problem   \n",
              "14001       Go GC: Solving the Latency Problem in Go 1.5   \n",
              "14002  Understanding Neural Networks Through Deep Vis...   \n",
              "14003                     Why does Gmail hate my domain?   \n",
              "\n",
              "                                                comments  \n",
              "0      [{'text': 'I&#x27;m still waiting for them to ...  \n",
              "1      [{'text': 'Get it from your employer. It&#x27;...  \n",
              "2      [{'text': 'What I don&#x27;t understand is why...  \n",
              "3      [{'text': 'I&#x27;m not a physicist.  I imagin...  \n",
              "4      [{'text': 'As someone that doesn&#x27;t do iOS...  \n",
              "...                                                  ...  \n",
              "13999  [{'text': 'Meanwhile in the US, Stubbs has bee...  \n",
              "14000  [{'text': 'A radical idea: Maybe our model of ...  \n",
              "14001  [{'text': 'Was the presentation more in-depth ...  \n",
              "14002  [{'text': 'Ok now I want to &quot;hear&quot; o...  \n",
              "14003  [{'text': 'I send a LOT of emails each month (...  \n",
              "\n",
              "[14004 rows x 2 columns]"
            ],
            "text/html": [
              "\n",
              "  <div id=\"df-d4915dd7-0947-42c0-ad73-592901ce1d27\">\n",
              "    <div class=\"colab-df-container\">\n",
              "      <div>\n",
              "<style scoped>\n",
              "    .dataframe tbody tr th:only-of-type {\n",
              "        vertical-align: middle;\n",
              "    }\n",
              "\n",
              "    .dataframe tbody tr th {\n",
              "        vertical-align: top;\n",
              "    }\n",
              "\n",
              "    .dataframe thead th {\n",
              "        text-align: right;\n",
              "    }\n",
              "</style>\n",
              "<table border=\"1\" class=\"dataframe\">\n",
              "  <thead>\n",
              "    <tr style=\"text-align: right;\">\n",
              "      <th></th>\n",
              "      <th>text</th>\n",
              "      <th>comments</th>\n",
              "    </tr>\n",
              "  </thead>\n",
              "  <tbody>\n",
              "    <tr>\n",
              "      <th>0</th>\n",
              "      <td>iOS 8.0.1 released, broken on iPhone 6 models,...</td>\n",
              "      <td>[{'text': 'I&amp;#x27;m still waiting for them to ...</td>\n",
              "    </tr>\n",
              "    <tr>\n",
              "      <th>1</th>\n",
              "      <td>Ask HN: How do US HNers get their health insur...</td>\n",
              "      <td>[{'text': 'Get it from your employer. It&amp;#x27;...</td>\n",
              "    </tr>\n",
              "    <tr>\n",
              "      <th>2</th>\n",
              "      <td>San Diego Researcher Crowdfunding Patent-Free ...</td>\n",
              "      <td>[{'text': 'What I don&amp;#x27;t understand is why...</td>\n",
              "    </tr>\n",
              "    <tr>\n",
              "      <th>3</th>\n",
              "      <td>Rethinking the origins of the universe</td>\n",
              "      <td>[{'text': 'I&amp;#x27;m not a physicist.  I imagin...</td>\n",
              "    </tr>\n",
              "    <tr>\n",
              "      <th>4</th>\n",
              "      <td>SlackTextViewController: A new growing text in...</td>\n",
              "      <td>[{'text': 'As someone that doesn&amp;#x27;t do iOS...</td>\n",
              "    </tr>\n",
              "    <tr>\n",
              "      <th>...</th>\n",
              "      <td>...</td>\n",
              "      <td>...</td>\n",
              "    </tr>\n",
              "    <tr>\n",
              "      <th>13999</th>\n",
              "      <td>The cat's miaow</td>\n",
              "      <td>[{'text': 'Meanwhile in the US, Stubbs has bee...</td>\n",
              "    </tr>\n",
              "    <tr>\n",
              "      <th>14000</th>\n",
              "      <td>Facebook’s Piracy Problem</td>\n",
              "      <td>[{'text': 'A radical idea: Maybe our model of ...</td>\n",
              "    </tr>\n",
              "    <tr>\n",
              "      <th>14001</th>\n",
              "      <td>Go GC: Solving the Latency Problem in Go 1.5</td>\n",
              "      <td>[{'text': 'Was the presentation more in-depth ...</td>\n",
              "    </tr>\n",
              "    <tr>\n",
              "      <th>14002</th>\n",
              "      <td>Understanding Neural Networks Through Deep Vis...</td>\n",
              "      <td>[{'text': 'Ok now I want to &amp;quot;hear&amp;quot; o...</td>\n",
              "    </tr>\n",
              "    <tr>\n",
              "      <th>14003</th>\n",
              "      <td>Why does Gmail hate my domain?</td>\n",
              "      <td>[{'text': 'I send a LOT of emails each month (...</td>\n",
              "    </tr>\n",
              "  </tbody>\n",
              "</table>\n",
              "<p>14004 rows × 2 columns</p>\n",
              "</div>\n",
              "      <button class=\"colab-df-convert\" onclick=\"convertToInteractive('df-d4915dd7-0947-42c0-ad73-592901ce1d27')\"\n",
              "              title=\"Convert this dataframe to an interactive table.\"\n",
              "              style=\"display:none;\">\n",
              "        \n",
              "  <svg xmlns=\"http://www.w3.org/2000/svg\" height=\"24px\"viewBox=\"0 0 24 24\"\n",
              "       width=\"24px\">\n",
              "    <path d=\"M0 0h24v24H0V0z\" fill=\"none\"/>\n",
              "    <path d=\"M18.56 5.44l.94 2.06.94-2.06 2.06-.94-2.06-.94-.94-2.06-.94 2.06-2.06.94zm-11 1L8.5 8.5l.94-2.06 2.06-.94-2.06-.94L8.5 2.5l-.94 2.06-2.06.94zm10 10l.94 2.06.94-2.06 2.06-.94-2.06-.94-.94-2.06-.94 2.06-2.06.94z\"/><path d=\"M17.41 7.96l-1.37-1.37c-.4-.4-.92-.59-1.43-.59-.52 0-1.04.2-1.43.59L10.3 9.45l-7.72 7.72c-.78.78-.78 2.05 0 2.83L4 21.41c.39.39.9.59 1.41.59.51 0 1.02-.2 1.41-.59l7.78-7.78 2.81-2.81c.8-.78.8-2.07 0-2.86zM5.41 20L4 18.59l7.72-7.72 1.47 1.35L5.41 20z\"/>\n",
              "  </svg>\n",
              "      </button>\n",
              "      \n",
              "  <style>\n",
              "    .colab-df-container {\n",
              "      display:flex;\n",
              "      flex-wrap:wrap;\n",
              "      gap: 12px;\n",
              "    }\n",
              "\n",
              "    .colab-df-convert {\n",
              "      background-color: #E8F0FE;\n",
              "      border: none;\n",
              "      border-radius: 50%;\n",
              "      cursor: pointer;\n",
              "      display: none;\n",
              "      fill: #1967D2;\n",
              "      height: 32px;\n",
              "      padding: 0 0 0 0;\n",
              "      width: 32px;\n",
              "    }\n",
              "\n",
              "    .colab-df-convert:hover {\n",
              "      background-color: #E2EBFA;\n",
              "      box-shadow: 0px 1px 2px rgba(60, 64, 67, 0.3), 0px 1px 3px 1px rgba(60, 64, 67, 0.15);\n",
              "      fill: #174EA6;\n",
              "    }\n",
              "\n",
              "    [theme=dark] .colab-df-convert {\n",
              "      background-color: #3B4455;\n",
              "      fill: #D2E3FC;\n",
              "    }\n",
              "\n",
              "    [theme=dark] .colab-df-convert:hover {\n",
              "      background-color: #434B5C;\n",
              "      box-shadow: 0px 1px 3px 1px rgba(0, 0, 0, 0.15);\n",
              "      filter: drop-shadow(0px 1px 2px rgba(0, 0, 0, 0.3));\n",
              "      fill: #FFFFFF;\n",
              "    }\n",
              "  </style>\n",
              "\n",
              "      <script>\n",
              "        const buttonEl =\n",
              "          document.querySelector('#df-d4915dd7-0947-42c0-ad73-592901ce1d27 button.colab-df-convert');\n",
              "        buttonEl.style.display =\n",
              "          google.colab.kernel.accessAllowed ? 'block' : 'none';\n",
              "\n",
              "        async function convertToInteractive(key) {\n",
              "          const element = document.querySelector('#df-d4915dd7-0947-42c0-ad73-592901ce1d27');\n",
              "          const dataTable =\n",
              "            await google.colab.kernel.invokeFunction('convertToInteractive',\n",
              "                                                     [key], {});\n",
              "          if (!dataTable) return;\n",
              "\n",
              "          const docLinkHtml = 'Like what you see? Visit the ' +\n",
              "            '<a target=\"_blank\" href=https://colab.research.google.com/notebooks/data_table.ipynb>data table notebook</a>'\n",
              "            + ' to learn more about interactive tables.';\n",
              "          element.innerHTML = '';\n",
              "          dataTable['output_type'] = 'display_data';\n",
              "          await google.colab.output.renderOutput(dataTable, element);\n",
              "          const docLink = document.createElement('div');\n",
              "          docLink.innerHTML = docLinkHtml;\n",
              "          element.appendChild(docLink);\n",
              "        }\n",
              "      </script>\n",
              "    </div>\n",
              "  </div>\n",
              "  "
            ]
          },
          "metadata": {},
          "execution_count": 68
        }
      ]
    },
    {
      "cell_type": "code",
      "source": [],
      "metadata": {
        "id": "FBv9RoK5EbrL"
      },
      "execution_count": null,
      "outputs": []
    }
  ]
}