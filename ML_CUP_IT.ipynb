{
  "cells": [
    {
      "cell_type": "code",
      "execution_count": null,
      "metadata": {
        "id": "RkOJuMrsFO58"
      },
      "outputs": [],
      "source": [
        "import dask.bag as db\n",
        "import json\n",
        "\n",
        "folder = 'CL_Cup IT_Data_Scince_секция_кейс_VK_датасет.zip'\n",
        "test_data = db.read_text(\n",
        "    'zip://ranking_test.jsonl',\n",
        "    storage_options={'fo': folder},\n",
        "    encoding='Windows-1251'\n",
        ").map(json.loads)\n",
        "train_data = db.read_text(\n",
        "    'zip://ranking_train.jsonl',\n",
        "    storage_options={'fo': folder},\n",
        "    encoding='Windows-1251'\n",
        ").map(json.loads)"
      ]
    },
    {
      "cell_type": "code",
      "execution_count": null,
      "metadata": {
        "id": "8OOxBL6MFO59"
      },
      "outputs": [],
      "source": [
        "test_df = test_data.to_dataframe().compute()\n",
        "train_df = train_data.to_dataframe().compute()"
      ]
    },
    {
      "cell_type": "code",
      "execution_count": null,
      "metadata": {
        "id": "f99HLC3NFO59",
        "outputId": "e50fdeee-992a-4f57-e465-19553975a07e"
      },
      "outputs": [
        {
          "name": "stderr",
          "output_type": "stream",
          "text": [
            "[nltk_data] Downloading package punkt to\n",
            "[nltk_data]     C:\\Users\\user\\AppData\\Roaming\\nltk_data...\n",
            "[nltk_data]   Package punkt is already up-to-date!\n",
            "[nltk_data] Downloading package stopwords to\n",
            "[nltk_data]     C:\\Users\\user\\AppData\\Roaming\\nltk_data...\n",
            "[nltk_data]   Package stopwords is already up-to-date!\n",
            "[nltk_data] Downloading package wordnet to\n",
            "[nltk_data]     C:\\Users\\user\\AppData\\Roaming\\nltk_data...\n",
            "[nltk_data]   Package wordnet is already up-to-date!\n",
            "[nltk_data] Downloading package omw-1.4 to\n",
            "[nltk_data]     C:\\Users\\user\\AppData\\Roaming\\nltk_data...\n",
            "[nltk_data]   Package omw-1.4 is already up-to-date!\n",
            "[nltk_data] Downloading package averaged_perceptron_tagger to\n",
            "[nltk_data]     C:\\Users\\user\\AppData\\Roaming\\nltk_data...\n",
            "[nltk_data]   Package averaged_perceptron_tagger is already up-to-\n",
            "[nltk_data]       date!\n"
          ]
        },
        {
          "data": {
            "text/plain": [
              "True"
            ]
          },
          "execution_count": 25,
          "metadata": {},
          "output_type": "execute_result"
        }
      ],
      "source": [
        "import nltk\n",
        "import pandas as pd\n",
        "import numpy as np\n",
        "from sklearn.feature_extraction.text import TfidfVectorizer\n",
        "import scipy\n",
        "\n",
        "nltk.download('punkt')\n",
        "nltk.download('stopwords')\n",
        "nltk.download('wordnet')\n",
        "nltk.download('omw-1.4')\n",
        "nltk.download('averaged_perceptron_tagger')"
      ]
    },
    {
      "cell_type": "code",
      "execution_count": null,
      "metadata": {
        "id": "lH_DV6eTFO5-",
        "outputId": "21050631-a01d-403c-80c5-888a4ca2315a"
      },
      "outputs": [
        {
          "data": {
            "text/html": [
              "<div>\n",
              "<style scoped>\n",
              "    .dataframe tbody tr th:only-of-type {\n",
              "        vertical-align: middle;\n",
              "    }\n",
              "\n",
              "    .dataframe tbody tr th {\n",
              "        vertical-align: top;\n",
              "    }\n",
              "\n",
              "    .dataframe thead th {\n",
              "        text-align: right;\n",
              "    }\n",
              "</style>\n",
              "<table border=\"1\" class=\"dataframe\">\n",
              "  <thead>\n",
              "    <tr style=\"text-align: right;\">\n",
              "      <th></th>\n",
              "      <th>text</th>\n",
              "      <th>comment</th>\n",
              "      <th>score</th>\n",
              "    </tr>\n",
              "  </thead>\n",
              "  <tbody>\n",
              "    <tr>\n",
              "      <th>0</th>\n",
              "      <td>How many summer Y Combinator fundees decided n...</td>\n",
              "      <td>Going back to school is not identical with giv...</td>\n",
              "      <td>0</td>\n",
              "    </tr>\n",
              "    <tr>\n",
              "      <th>0</th>\n",
              "      <td>How many summer Y Combinator fundees decided n...</td>\n",
              "      <td>There will invariably be those who don't see t...</td>\n",
              "      <td>1</td>\n",
              "    </tr>\n",
              "    <tr>\n",
              "      <th>0</th>\n",
              "      <td>How many summer Y Combinator fundees decided n...</td>\n",
              "      <td>For me school is a way to be connected to what...</td>\n",
              "      <td>2</td>\n",
              "    </tr>\n",
              "    <tr>\n",
              "      <th>0</th>\n",
              "      <td>How many summer Y Combinator fundees decided n...</td>\n",
              "      <td>I guess it really depends on how hungry you ar...</td>\n",
              "      <td>3</td>\n",
              "    </tr>\n",
              "    <tr>\n",
              "      <th>0</th>\n",
              "      <td>How many summer Y Combinator fundees decided n...</td>\n",
              "      <td>I know pollground decided to go back to school...</td>\n",
              "      <td>4</td>\n",
              "    </tr>\n",
              "  </tbody>\n",
              "</table>\n",
              "</div>"
            ],
            "text/plain": [
              "                                                text  \\\n",
              "0  How many summer Y Combinator fundees decided n...   \n",
              "0  How many summer Y Combinator fundees decided n...   \n",
              "0  How many summer Y Combinator fundees decided n...   \n",
              "0  How many summer Y Combinator fundees decided n...   \n",
              "0  How many summer Y Combinator fundees decided n...   \n",
              "\n",
              "                                             comment  score  \n",
              "0  Going back to school is not identical with giv...      0  \n",
              "0  There will invariably be those who don't see t...      1  \n",
              "0  For me school is a way to be connected to what...      2  \n",
              "0  I guess it really depends on how hungry you ar...      3  \n",
              "0  I know pollground decided to go back to school...      4  "
            ]
          },
          "execution_count": 4,
          "metadata": {},
          "output_type": "execute_result"
        }
      ],
      "source": [
        "train = train_df.explode(column='comments')\n",
        "train['comment'] = train.comments.map(lambda dic: dic['text'])\n",
        "train['score'] = train.comments.map(lambda dic: dic['score'])\n",
        "train.drop(labels=['comments'], axis=1, inplace=True)\n",
        "train.head()"
      ]
    },
    {
      "cell_type": "code",
      "execution_count": null,
      "metadata": {
        "id": "xOWNdb4MFO5-"
      },
      "outputs": [],
      "source": [
        "# получение стемматизированных комментов и постов\n",
        "stemmed_posts = pd.read_csv('./stemmed_posts.csv', index_col=0)\n",
        "stemmed_comments = pd.read_csv('./stemmed_comments.csv', index_col=0)\n",
        "\n",
        "stemmed_posts['text'] = stemmed_posts['text'].str.replace(\"'\",'') \\\n",
        ".str.rstrip(']').str.lstrip('[').str.replace(' ','').str.split(',')\n",
        "\n",
        "stemmed_comments['comment'] = stemmed_comments['comment'] \\\n",
        ".str.replace(\"'\",'').str.rstrip(']').str.lstrip('[').str.replace(' ','') \\\n",
        ".str.split(',')"
      ]
    },
    {
      "cell_type": "code",
      "execution_count": null,
      "metadata": {
        "id": "_cKx-5_XFO5-"
      },
      "outputs": [],
      "source": [
        "# получение лемматизированных комментов и постов\n",
        "lemmatized_posts = pd.read_csv('./posts_lemmatized.csv')\n",
        "lemmatized_comments = pd.read_csv('./comments_lemmatized.csv')\n",
        "\n",
        "lemmatized_posts['text'] = lemmatized_posts['text'].str.replace(\"'\",'') \\\n",
        ".str.rstrip(']').str.lstrip('[').str.replace(' ','').str.split(',')\n",
        "\n",
        "lemmatized_comments['comment'] = lemmatized_comments['comment'] \\\n",
        ".str.replace(\"'\",'').str.rstrip(']').str.lstrip('[').str.replace(' ','') \\\n",
        ".str.split(',')"
      ]
    },
    {
      "cell_type": "code",
      "execution_count": null,
      "metadata": {
        "id": "KMaz8ukHFO5_"
      },
      "outputs": [],
      "source": [
        "# формирование столбца соединенного из лемматизированных названия и коммента\n",
        "# ресет индекса для более удобной индексации на этапе формирования массивов X и Y\n",
        "train['full_text'] = lemmatized_posts['text'].str.join(' ') + ' ||| ' + lemmatized_comments['comment'].str.join(' ')\n",
        "train.reset_index(inplace=True)"
      ]
    },
    {
      "cell_type": "code",
      "execution_count": null,
      "metadata": {
        "id": "nw8C4UvHFO5_"
      },
      "outputs": [],
      "source": [
        "# формирование столбца соединенного из стемматизированных названия и коммента\n",
        "train['full_text_stem'] = stemmed_posts['text'].str.join(' ') + ' ||| ' + stemmed_comments['comment'].str.join(' ')"
      ]
    },
    {
      "cell_type": "code",
      "execution_count": null,
      "metadata": {
        "id": "jcg4G5AtFO6A",
        "outputId": "fefe92fe-7795-4300-a30b-5634d62d171b"
      },
      "outputs": [
        {
          "name": "stdout",
          "output_type": "stream",
          "text": [
            "Overwriting svc_mp.py\n"
          ]
        }
      ],
      "source": [
        "%%file svc_mp.py\n",
        "from sklearn.svm import SVC\n",
        "\n",
        "def perform_svc(xy_zipped):\n",
        "    model = SVC(kernel = 'linear', probability = True)\n",
        "    model.fit(xy_zipped[0], xy_zipped[1]) \n",
        "    y_pred_train = model.predict(xy_zipped[0])\n",
        "    return y_pred_train, xy_zipped[1]"
      ]
    },
    {
      "cell_type": "code",
      "execution_count": null,
      "metadata": {
        "id": "K3c96sDRFO6A",
        "outputId": "78a42bbf-4cc7-4006-9271-e2a29378b5eb"
      },
      "outputs": [
        {
          "name": "stdout",
          "output_type": "stream",
          "text": [
            "Writing logreg_mp.py\n"
          ]
        }
      ],
      "source": [
        "%%file logreg_mp.py\n",
        "from sklearn.linear_model import LogisticRegression\n",
        "\n",
        "def perform_logreg(xy_zipped):\n",
        "    model = LogisticRegression(multi_class='multinomial', solver='lbfgs')\n",
        "    model.fit(xy_zipped[0], xy_zipped[1]) \n",
        "    y_pred_train = model.predict(xy_zipped[0])\n",
        "    return y_pred_train, xy_zipped[1]"
      ]
    },
    {
      "cell_type": "code",
      "execution_count": null,
      "metadata": {
        "id": "BkRlSJtEFO6B",
        "outputId": "9f46f530-623c-4fc0-a68b-ff24edf79b6e"
      },
      "outputs": [
        {
          "name": "stdout",
          "output_type": "stream",
          "text": [
            "Overwriting xgb_mp.py\n"
          ]
        }
      ],
      "source": [
        "%%file xgb_mp.py\n",
        "import xgboost as xgb\n",
        "\n",
        "def perform_xgb(xy_zipped):\n",
        "    model = xgb.XGBClassifier(\n",
        "        n_estimators=1000, max_depth=8, \n",
        "        eta=0.5\n",
        "    )\n",
        "    model.fit(xy_zipped[0], xy_zipped[1]) \n",
        "    y_pred_train = model.predict(xy_zipped[0])\n",
        "    return y_pred_train, xy_zipped[1]"
      ]
    },
    {
      "cell_type": "code",
      "execution_count": null,
      "metadata": {
        "id": "Jxli8raJFO6C",
        "outputId": "7c322597-ec54-4b38-b68e-ad0dd8664a8a"
      },
      "outputs": [
        {
          "name": "stdout",
          "output_type": "stream",
          "text": [
            "Writing tree_mp.py\n"
          ]
        }
      ],
      "source": [
        "%%file tree_mp.py\n",
        "from sklearn.tree import DecisionTreeClassifier\n",
        "\n",
        "def perform_tree(xy_zipped):\n",
        "    model = DecisionTreeClassifier(\n",
        "        criterion='gini', max_depth=8, \n",
        "        min_samples_leaf=5,\n",
        "    )\n",
        "    model.fit(xy_zipped[0], xy_zipped[1]) \n",
        "    y_pred_train = model.predict(xy_zipped[0])\n",
        "    return y_pred_train, xy_zipped[1]"
      ]
    },
    {
      "cell_type": "code",
      "execution_count": null,
      "metadata": {
        "id": "OKIW13CAFO6C"
      },
      "outputs": [],
      "source": [
        "# формирование семплов из X (fulltext_tfidfs) и Y (scores_for_model)\n",
        "posts_and_comments = [train['full_text'].sample(12000) for _ in range(8)]\n",
        "indices = list(map(lambda pandc: pandc.index, posts_and_comments))\n",
        "fulltext_tfidfs = list(\n",
        "    map(lambda pandc: scipy.sparse.csr_matrix(TfidfVectorizer(decode_error='ignore', analyzer='word').fit_transform(pandc)), posts_and_comments)\n",
        ")\n",
        "scores_for_model = [train['score'][idx] for idx in indices]"
      ]
    },
    {
      "cell_type": "code",
      "execution_count": null,
      "metadata": {
        "id": "0cErJhUIFO6C"
      },
      "outputs": [],
      "source": [
        "# формирование семплов из X (fulltextstem_tfidfs) на основе предыдущих индексов\n",
        "posts_and_comments_stemmed = [train['full_text_stem'][idx] for idx in indices]\n",
        "fulltextstem_tfidfs = list(\n",
        "    map(lambda pandc: scipy.sparse.csr_matrix(TfidfVectorizer(decode_error='ignore', analyzer='word').fit_transform(pandc)), posts_and_comments_stemmed)\n",
        ")"
      ]
    },
    {
      "cell_type": "code",
      "execution_count": null,
      "metadata": {
        "id": "KzaQZWS8FO6C",
        "outputId": "c40942bb-5ae8-4ff3-ba53-223d6c618e05"
      },
      "outputs": [
        {
          "name": "stdout",
          "output_type": "stream",
          "text": [
            "CPU times: total: 141 ms\n",
            "Wall time: 8min 44s\n"
          ]
        }
      ],
      "source": [
        "%%time\n",
        "\n",
        "# SVC\n",
        "import multiprocessing\n",
        "from svc_mp import perform_svc\n",
        "\n",
        "with multiprocessing.Pool(processes=multiprocessing.cpu_count()) as pool:\n",
        "    res_svc = pool.map(perform_svc, list(zip(fulltext_tfidfs, scores_for_model)))"
      ]
    },
    {
      "cell_type": "code",
      "execution_count": null,
      "metadata": {
        "id": "i3VXCxBkFO6D",
        "outputId": "9be32c3c-562f-4e4e-b79c-010b9e6691f3"
      },
      "outputs": [
        {
          "name": "stdout",
          "output_type": "stream",
          "text": [
            "CPU times: total: 93.8 ms\n",
            "Wall time: 8.44 s\n"
          ]
        }
      ],
      "source": [
        "%%time\n",
        "\n",
        "# LogisticRegression\n",
        "import multiprocessing\n",
        "from logreg_mp import perform_logreg\n",
        "\n",
        "with multiprocessing.Pool(processes=multiprocessing.cpu_count()) as pool:\n",
        "    res_logreg = pool.map(perform_logreg, list(zip(fulltext_tfidfs, scores_for_model)))"
      ]
    },
    {
      "cell_type": "code",
      "execution_count": null,
      "metadata": {
        "id": "WhJPiWW8FO6D",
        "outputId": "9df6d4ee-eb37-422e-a413-c7b04e31bc08"
      },
      "outputs": [
        {
          "name": "stdout",
          "output_type": "stream",
          "text": [
            "CPU times: total: 93.8 ms\n",
            "Wall time: 14min 23s\n"
          ]
        }
      ],
      "source": [
        "%%time\n",
        "\n",
        "# XGBClassifier\n",
        "import multiprocessing\n",
        "from xgb_mp import perform_xgb\n",
        "\n",
        "with multiprocessing.Pool(processes=multiprocessing.cpu_count()) as pool:\n",
        "    res_xgb = pool.map(perform_xgb, list(zip(fulltext_tfidfs, scores_for_model)))"
      ]
    },
    {
      "cell_type": "code",
      "execution_count": null,
      "metadata": {
        "id": "5GmYHQSfFO6D",
        "outputId": "d7a82191-ec82-401f-defe-b106638f2ae2"
      },
      "outputs": [
        {
          "name": "stdout",
          "output_type": "stream",
          "text": [
            "CPU times: total: 141 ms\n",
            "Wall time: 2.47 s\n"
          ]
        }
      ],
      "source": [
        "%%time\n",
        "\n",
        "# TreeClassifier\n",
        "import multiprocessing\n",
        "from tree_mp import perform_tree\n",
        "\n",
        "with multiprocessing.Pool(processes=multiprocessing.cpu_count()) as pool:\n",
        "    res_tree = pool.map(perform_tree, list(zip(fulltext_tfidfs, scores_for_model)))"
      ]
    },
    {
      "cell_type": "code",
      "execution_count": null,
      "metadata": {
        "id": "h58uvh65FO6D",
        "outputId": "d7a17e14-54ca-45ce-ac3d-63e68e843a6e"
      },
      "outputs": [
        {
          "name": "stdout",
          "output_type": "stream",
          "text": [
            "CPU times: total: 156 ms\n",
            "Wall time: 7min 47s\n"
          ]
        }
      ],
      "source": [
        "%%time\n",
        "\n",
        "# SVC для стемматизированных\n",
        "import multiprocessing\n",
        "from svc_mp import perform_svc\n",
        "\n",
        "with multiprocessing.Pool(processes=multiprocessing.cpu_count()) as pool:\n",
        "    res_svc_for_stemmed = pool.map(perform_svc, list(zip(fulltextstem_tfidfs, scores_for_model)))"
      ]
    },
    {
      "cell_type": "code",
      "execution_count": null,
      "metadata": {
        "id": "KGCpif6ZFO6D",
        "outputId": "f2a4086f-923e-4c0b-ed6f-e3f18a486904"
      },
      "outputs": [
        {
          "name": "stdout",
          "output_type": "stream",
          "text": [
            "CPU times: total: 109 ms\n",
            "Wall time: 9.06 s\n"
          ]
        }
      ],
      "source": [
        "%%time\n",
        "\n",
        "# LogisticRegression для стематизированных\n",
        "import multiprocessing\n",
        "from logreg_mp import perform_logreg\n",
        "\n",
        "with multiprocessing.Pool(processes=multiprocessing.cpu_count()) as pool:\n",
        "    res_logreg_for_stemmed = pool.map(perform_logreg, list(zip(fulltextstem_tfidfs, scores_for_model)))"
      ]
    },
    {
      "cell_type": "code",
      "execution_count": null,
      "metadata": {
        "id": "_SqAo_iaFO6E",
        "outputId": "f3722263-b039-49fb-e9c9-0c2b3af71660"
      },
      "outputs": [
        {
          "name": "stdout",
          "output_type": "stream",
          "text": [
            "CPU times: total: 141 ms\n",
            "Wall time: 12min 20s\n"
          ]
        }
      ],
      "source": [
        "%%time\n",
        "\n",
        "# XGBClassifier для стемматизированных\n",
        "import multiprocessing\n",
        "from xgb_mp import perform_xgb\n",
        "\n",
        "with multiprocessing.Pool(processes=multiprocessing.cpu_count()) as pool:\n",
        "    res_xgb_for_stemmed = pool.map(perform_xgb, list(zip(fulltextstem_tfidfs, scores_for_model)))"
      ]
    },
    {
      "cell_type": "code",
      "execution_count": null,
      "metadata": {
        "id": "msai6sU_FO6E",
        "outputId": "99328fa4-b739-4178-ae80-03f829e12889"
      },
      "outputs": [
        {
          "name": "stdout",
          "output_type": "stream",
          "text": [
            "CPU times: total: 125 ms\n",
            "Wall time: 2.6 s\n"
          ]
        }
      ],
      "source": [
        "%%time\n",
        "\n",
        "# TreeClassifier для стемматизированных\n",
        "import multiprocessing\n",
        "from tree_mp import perform_tree\n",
        "\n",
        "with multiprocessing.Pool(processes=multiprocessing.cpu_count()) as pool:\n",
        "    res_tree_for_stemmed = pool.map(perform_tree, list(zip(fulltextstem_tfidfs, scores_for_model)))"
      ]
    },
    {
      "cell_type": "code",
      "execution_count": null,
      "metadata": {
        "id": "IcEJHSMzFO6E"
      },
      "outputs": [],
      "source": [
        "from sklearn.metrics import ndcg_score, f1_score\n",
        "from scipy import stats\n",
        "\n",
        "def model_pivot_table(mp_results):\n",
        "    metrics_pivottable = pd.DataFrame(\n",
        "        zip(\n",
        "            map(\n",
        "                lambda pred_true: f1_score(pred_true[1], pred_true[0], average='weighted'), \n",
        "                mp_results\n",
        "            ),\n",
        "            map(\n",
        "                lambda pred_true: ndcg_score([pred_true[1]],[pred_true[0]]), \n",
        "                mp_results\n",
        "            ),\n",
        "        ),\n",
        "        columns=['f1 score', 'NDCG score']\n",
        "    )\n",
        "    statistics = pd.DataFrame(\n",
        "        [stats.hmean(metrics_pivottable).T, metrics_pivottable.std().values.T], \n",
        "        columns=['f1 score', 'NDCG score']\n",
        "    )\n",
        "    metrics_pivottable = pd.DataFrame(pd.concat([metrics_pivottable, statistics]))\n",
        "    metrics_pivottable.index = pd.Index([f'Сэмпл {i+1}' for i in range(8)] + ['среднегармонич.', 'станд. отклон.'])\n",
        "    return metrics_pivottable"
      ]
    },
    {
      "cell_type": "code",
      "execution_count": null,
      "metadata": {
        "id": "ygZLTAtwFO6F",
        "outputId": "2aac1ea3-904e-485b-9276-c06408fa25f3"
      },
      "outputs": [
        {
          "data": {
            "text/html": [
              "<div>\n",
              "<style scoped>\n",
              "    .dataframe tbody tr th:only-of-type {\n",
              "        vertical-align: middle;\n",
              "    }\n",
              "\n",
              "    .dataframe tbody tr th {\n",
              "        vertical-align: top;\n",
              "    }\n",
              "\n",
              "    .dataframe thead th {\n",
              "        text-align: right;\n",
              "    }\n",
              "</style>\n",
              "<table border=\"1\" class=\"dataframe\">\n",
              "  <thead>\n",
              "    <tr style=\"text-align: right;\">\n",
              "      <th></th>\n",
              "      <th>f1 score</th>\n",
              "      <th>NDCG score</th>\n",
              "      <th>f1 score</th>\n",
              "      <th>NDCG score</th>\n",
              "    </tr>\n",
              "  </thead>\n",
              "  <tbody>\n",
              "    <tr>\n",
              "      <th>Сэмпл 1</th>\n",
              "      <td>0.746992</td>\n",
              "      <td>0.976348</td>\n",
              "      <td>0.759408</td>\n",
              "      <td>0.978275</td>\n",
              "    </tr>\n",
              "    <tr>\n",
              "      <th>Сэмпл 2</th>\n",
              "      <td>0.747972</td>\n",
              "      <td>0.976505</td>\n",
              "      <td>0.753679</td>\n",
              "      <td>0.977408</td>\n",
              "    </tr>\n",
              "    <tr>\n",
              "      <th>Сэмпл 3</th>\n",
              "      <td>0.744444</td>\n",
              "      <td>0.974748</td>\n",
              "      <td>0.761177</td>\n",
              "      <td>0.977585</td>\n",
              "    </tr>\n",
              "    <tr>\n",
              "      <th>Сэмпл 4</th>\n",
              "      <td>0.748595</td>\n",
              "      <td>0.976165</td>\n",
              "      <td>0.759982</td>\n",
              "      <td>0.977768</td>\n",
              "    </tr>\n",
              "    <tr>\n",
              "      <th>Сэмпл 5</th>\n",
              "      <td>0.749770</td>\n",
              "      <td>0.975759</td>\n",
              "      <td>0.759690</td>\n",
              "      <td>0.975461</td>\n",
              "    </tr>\n",
              "    <tr>\n",
              "      <th>Сэмпл 6</th>\n",
              "      <td>0.750069</td>\n",
              "      <td>0.975141</td>\n",
              "      <td>0.765203</td>\n",
              "      <td>0.977979</td>\n",
              "    </tr>\n",
              "    <tr>\n",
              "      <th>Сэмпл 7</th>\n",
              "      <td>0.740322</td>\n",
              "      <td>0.974562</td>\n",
              "      <td>0.763951</td>\n",
              "      <td>0.978386</td>\n",
              "    </tr>\n",
              "    <tr>\n",
              "      <th>Сэмпл 8</th>\n",
              "      <td>0.746692</td>\n",
              "      <td>0.976128</td>\n",
              "      <td>0.760636</td>\n",
              "      <td>0.977539</td>\n",
              "    </tr>\n",
              "    <tr>\n",
              "      <th>среднегармонич.</th>\n",
              "      <td>0.746845</td>\n",
              "      <td>0.975669</td>\n",
              "      <td>0.760452</td>\n",
              "      <td>0.977550</td>\n",
              "    </tr>\n",
              "    <tr>\n",
              "      <th>станд. отклон.</th>\n",
              "      <td>0.003199</td>\n",
              "      <td>0.000754</td>\n",
              "      <td>0.003446</td>\n",
              "      <td>0.000914</td>\n",
              "    </tr>\n",
              "  </tbody>\n",
              "</table>\n",
              "</div>"
            ],
            "text/plain": [
              "                 f1 score  NDCG score  f1 score  NDCG score\n",
              "Сэмпл 1          0.746992    0.976348  0.759408    0.978275\n",
              "Сэмпл 2          0.747972    0.976505  0.753679    0.977408\n",
              "Сэмпл 3          0.744444    0.974748  0.761177    0.977585\n",
              "Сэмпл 4          0.748595    0.976165  0.759982    0.977768\n",
              "Сэмпл 5          0.749770    0.975759  0.759690    0.975461\n",
              "Сэмпл 6          0.750069    0.975141  0.765203    0.977979\n",
              "Сэмпл 7          0.740322    0.974562  0.763951    0.978386\n",
              "Сэмпл 8          0.746692    0.976128  0.760636    0.977539\n",
              "среднегармонич.  0.746845    0.975669  0.760452    0.977550\n",
              "станд. отклон.   0.003199    0.000754  0.003446    0.000914"
            ]
          },
          "execution_count": 38,
          "metadata": {},
          "output_type": "execute_result"
        }
      ],
      "source": [
        "# сводная таблица для SVC\n",
        "pd.concat([\n",
        "    model_pivot_table(res_svc),\n",
        "    model_pivot_table(res_svc_for_stemmed)\n",
        "], axis=1)"
      ]
    },
    {
      "cell_type": "code",
      "execution_count": null,
      "metadata": {
        "id": "g2y-4AnmFO6F",
        "outputId": "88deb35d-2810-4d2b-9e15-65b4e4832d4c"
      },
      "outputs": [
        {
          "data": {
            "text/html": [
              "<div>\n",
              "<style scoped>\n",
              "    .dataframe tbody tr th:only-of-type {\n",
              "        vertical-align: middle;\n",
              "    }\n",
              "\n",
              "    .dataframe tbody tr th {\n",
              "        vertical-align: top;\n",
              "    }\n",
              "\n",
              "    .dataframe thead th {\n",
              "        text-align: right;\n",
              "    }\n",
              "</style>\n",
              "<table border=\"1\" class=\"dataframe\">\n",
              "  <thead>\n",
              "    <tr style=\"text-align: right;\">\n",
              "      <th></th>\n",
              "      <th>f1 score</th>\n",
              "      <th>NDCG score</th>\n",
              "      <th>f1 score</th>\n",
              "      <th>NDCG score</th>\n",
              "    </tr>\n",
              "  </thead>\n",
              "  <tbody>\n",
              "    <tr>\n",
              "      <th>Сэмпл 1</th>\n",
              "      <td>0.772179</td>\n",
              "      <td>0.978343</td>\n",
              "      <td>0.761955</td>\n",
              "      <td>0.976718</td>\n",
              "    </tr>\n",
              "    <tr>\n",
              "      <th>Сэмпл 2</th>\n",
              "      <td>0.776082</td>\n",
              "      <td>0.979185</td>\n",
              "      <td>0.761208</td>\n",
              "      <td>0.976862</td>\n",
              "    </tr>\n",
              "    <tr>\n",
              "      <th>Сэмпл 3</th>\n",
              "      <td>0.770046</td>\n",
              "      <td>0.976987</td>\n",
              "      <td>0.768592</td>\n",
              "      <td>0.976975</td>\n",
              "    </tr>\n",
              "    <tr>\n",
              "      <th>Сэмпл 4</th>\n",
              "      <td>0.773532</td>\n",
              "      <td>0.978169</td>\n",
              "      <td>0.766696</td>\n",
              "      <td>0.976070</td>\n",
              "    </tr>\n",
              "    <tr>\n",
              "      <th>Сэмпл 5</th>\n",
              "      <td>0.773169</td>\n",
              "      <td>0.977747</td>\n",
              "      <td>0.765316</td>\n",
              "      <td>0.974743</td>\n",
              "    </tr>\n",
              "    <tr>\n",
              "      <th>Сэмпл 6</th>\n",
              "      <td>0.774824</td>\n",
              "      <td>0.978171</td>\n",
              "      <td>0.765421</td>\n",
              "      <td>0.975884</td>\n",
              "    </tr>\n",
              "    <tr>\n",
              "      <th>Сэмпл 7</th>\n",
              "      <td>0.773147</td>\n",
              "      <td>0.977378</td>\n",
              "      <td>0.765883</td>\n",
              "      <td>0.976874</td>\n",
              "    </tr>\n",
              "    <tr>\n",
              "      <th>Сэмпл 8</th>\n",
              "      <td>0.772832</td>\n",
              "      <td>0.978143</td>\n",
              "      <td>0.765422</td>\n",
              "      <td>0.976159</td>\n",
              "    </tr>\n",
              "    <tr>\n",
              "      <th>среднегармонич.</th>\n",
              "      <td>0.773223</td>\n",
              "      <td>0.978015</td>\n",
              "      <td>0.765055</td>\n",
              "      <td>0.976285</td>\n",
              "    </tr>\n",
              "    <tr>\n",
              "      <th>станд. отклон.</th>\n",
              "      <td>0.001780</td>\n",
              "      <td>0.000663</td>\n",
              "      <td>0.002409</td>\n",
              "      <td>0.000751</td>\n",
              "    </tr>\n",
              "  </tbody>\n",
              "</table>\n",
              "</div>"
            ],
            "text/plain": [
              "                 f1 score  NDCG score  f1 score  NDCG score\n",
              "Сэмпл 1          0.772179    0.978343  0.761955    0.976718\n",
              "Сэмпл 2          0.776082    0.979185  0.761208    0.976862\n",
              "Сэмпл 3          0.770046    0.976987  0.768592    0.976975\n",
              "Сэмпл 4          0.773532    0.978169  0.766696    0.976070\n",
              "Сэмпл 5          0.773169    0.977747  0.765316    0.974743\n",
              "Сэмпл 6          0.774824    0.978171  0.765421    0.975884\n",
              "Сэмпл 7          0.773147    0.977378  0.765883    0.976874\n",
              "Сэмпл 8          0.772832    0.978143  0.765422    0.976159\n",
              "среднегармонич.  0.773223    0.978015  0.765055    0.976285\n",
              "станд. отклон.   0.001780    0.000663  0.002409    0.000751"
            ]
          },
          "execution_count": 42,
          "metadata": {},
          "output_type": "execute_result"
        }
      ],
      "source": [
        "# сводная таблица для LogisticRegression\n",
        "pd.concat([\n",
        "    model_pivot_table(res_logreg),\n",
        "    model_pivot_table(res_logreg_for_stemmed)\n",
        "], axis=1)"
      ]
    },
    {
      "cell_type": "code",
      "execution_count": null,
      "metadata": {
        "id": "l5w1QhdbFO6F",
        "outputId": "7892f9ee-7af0-458b-c76d-71f839cfd0b4"
      },
      "outputs": [
        {
          "data": {
            "text/html": [
              "<div>\n",
              "<style scoped>\n",
              "    .dataframe tbody tr th:only-of-type {\n",
              "        vertical-align: middle;\n",
              "    }\n",
              "\n",
              "    .dataframe tbody tr th {\n",
              "        vertical-align: top;\n",
              "    }\n",
              "\n",
              "    .dataframe thead th {\n",
              "        text-align: right;\n",
              "    }\n",
              "</style>\n",
              "<table border=\"1\" class=\"dataframe\">\n",
              "  <thead>\n",
              "    <tr style=\"text-align: right;\">\n",
              "      <th></th>\n",
              "      <th>f1 score</th>\n",
              "      <th>NDCG score</th>\n",
              "      <th>f1 score</th>\n",
              "      <th>NDCG score</th>\n",
              "    </tr>\n",
              "  </thead>\n",
              "  <tbody>\n",
              "    <tr>\n",
              "      <th>Сэмпл 1</th>\n",
              "      <td>0.947581</td>\n",
              "      <td>0.995174</td>\n",
              "      <td>0.999667</td>\n",
              "      <td>0.999929</td>\n",
              "    </tr>\n",
              "    <tr>\n",
              "      <th>Сэмпл 2</th>\n",
              "      <td>0.946430</td>\n",
              "      <td>0.994510</td>\n",
              "      <td>1.000000</td>\n",
              "      <td>1.000000</td>\n",
              "    </tr>\n",
              "    <tr>\n",
              "      <th>Сэмпл 3</th>\n",
              "      <td>0.944729</td>\n",
              "      <td>0.994445</td>\n",
              "      <td>0.999583</td>\n",
              "      <td>0.999905</td>\n",
              "    </tr>\n",
              "    <tr>\n",
              "      <th>Сэмпл 4</th>\n",
              "      <td>0.947670</td>\n",
              "      <td>0.994799</td>\n",
              "      <td>0.999917</td>\n",
              "      <td>0.999992</td>\n",
              "    </tr>\n",
              "    <tr>\n",
              "      <th>Сэмпл 5</th>\n",
              "      <td>0.950585</td>\n",
              "      <td>0.995004</td>\n",
              "      <td>0.999917</td>\n",
              "      <td>0.999955</td>\n",
              "    </tr>\n",
              "    <tr>\n",
              "      <th>Сэмпл 6</th>\n",
              "      <td>0.946918</td>\n",
              "      <td>0.994736</td>\n",
              "      <td>1.000000</td>\n",
              "      <td>1.000000</td>\n",
              "    </tr>\n",
              "    <tr>\n",
              "      <th>Сэмпл 7</th>\n",
              "      <td>0.947588</td>\n",
              "      <td>0.995322</td>\n",
              "      <td>0.999750</td>\n",
              "      <td>0.999980</td>\n",
              "    </tr>\n",
              "    <tr>\n",
              "      <th>Сэмпл 8</th>\n",
              "      <td>0.947169</td>\n",
              "      <td>0.995222</td>\n",
              "      <td>1.000000</td>\n",
              "      <td>1.000000</td>\n",
              "    </tr>\n",
              "    <tr>\n",
              "      <th>среднегармонич.</th>\n",
              "      <td>0.947331</td>\n",
              "      <td>0.994901</td>\n",
              "      <td>0.999854</td>\n",
              "      <td>0.999970</td>\n",
              "    </tr>\n",
              "    <tr>\n",
              "      <th>станд. отклон.</th>\n",
              "      <td>0.001631</td>\n",
              "      <td>0.000330</td>\n",
              "      <td>0.000165</td>\n",
              "      <td>0.000037</td>\n",
              "    </tr>\n",
              "  </tbody>\n",
              "</table>\n",
              "</div>"
            ],
            "text/plain": [
              "                 f1 score  NDCG score  f1 score  NDCG score\n",
              "Сэмпл 1          0.947581    0.995174  0.999667    0.999929\n",
              "Сэмпл 2          0.946430    0.994510  1.000000    1.000000\n",
              "Сэмпл 3          0.944729    0.994445  0.999583    0.999905\n",
              "Сэмпл 4          0.947670    0.994799  0.999917    0.999992\n",
              "Сэмпл 5          0.950585    0.995004  0.999917    0.999955\n",
              "Сэмпл 6          0.946918    0.994736  1.000000    1.000000\n",
              "Сэмпл 7          0.947588    0.995322  0.999750    0.999980\n",
              "Сэмпл 8          0.947169    0.995222  1.000000    1.000000\n",
              "среднегармонич.  0.947331    0.994901  0.999854    0.999970\n",
              "станд. отклон.   0.001631    0.000330  0.000165    0.000037"
            ]
          },
          "execution_count": 46,
          "metadata": {},
          "output_type": "execute_result"
        }
      ],
      "source": [
        "# сводная таблица для XGBClassifier\n",
        "pd.concat([\n",
        "    model_pivot_table(res_xgb),\n",
        "    model_pivot_table(res_xgb_for_stemmed)\n",
        "], axis=1)"
      ]
    },
    {
      "cell_type": "code",
      "execution_count": null,
      "metadata": {
        "id": "PY8mt2DFFO6F",
        "outputId": "89d5e022-dd6a-46c8-ef11-c39542b3ed7d"
      },
      "outputs": [
        {
          "data": {
            "text/html": [
              "<div>\n",
              "<style scoped>\n",
              "    .dataframe tbody tr th:only-of-type {\n",
              "        vertical-align: middle;\n",
              "    }\n",
              "\n",
              "    .dataframe tbody tr th {\n",
              "        vertical-align: top;\n",
              "    }\n",
              "\n",
              "    .dataframe thead th {\n",
              "        text-align: right;\n",
              "    }\n",
              "</style>\n",
              "<table border=\"1\" class=\"dataframe\">\n",
              "  <thead>\n",
              "    <tr style=\"text-align: right;\">\n",
              "      <th></th>\n",
              "      <th>f1 score</th>\n",
              "      <th>NDCG score</th>\n",
              "      <th>f1 score</th>\n",
              "      <th>NDCG score</th>\n",
              "    </tr>\n",
              "  </thead>\n",
              "  <tbody>\n",
              "    <tr>\n",
              "      <th>Сэмпл 1</th>\n",
              "      <td>0.075993</td>\n",
              "      <td>0.926014</td>\n",
              "      <td>0.239987</td>\n",
              "      <td>0.938084</td>\n",
              "    </tr>\n",
              "    <tr>\n",
              "      <th>Сэмпл 2</th>\n",
              "      <td>0.099862</td>\n",
              "      <td>0.928198</td>\n",
              "      <td>0.229866</td>\n",
              "      <td>0.935087</td>\n",
              "    </tr>\n",
              "    <tr>\n",
              "      <th>Сэмпл 3</th>\n",
              "      <td>0.080512</td>\n",
              "      <td>0.927673</td>\n",
              "      <td>0.226904</td>\n",
              "      <td>0.932296</td>\n",
              "    </tr>\n",
              "    <tr>\n",
              "      <th>Сэмпл 4</th>\n",
              "      <td>0.085855</td>\n",
              "      <td>0.923390</td>\n",
              "      <td>0.192769</td>\n",
              "      <td>0.931380</td>\n",
              "    </tr>\n",
              "    <tr>\n",
              "      <th>Сэмпл 5</th>\n",
              "      <td>0.081137</td>\n",
              "      <td>0.922561</td>\n",
              "      <td>0.213044</td>\n",
              "      <td>0.931590</td>\n",
              "    </tr>\n",
              "    <tr>\n",
              "      <th>Сэмпл 6</th>\n",
              "      <td>0.086369</td>\n",
              "      <td>0.922849</td>\n",
              "      <td>0.204642</td>\n",
              "      <td>0.933182</td>\n",
              "    </tr>\n",
              "    <tr>\n",
              "      <th>Сэмпл 7</th>\n",
              "      <td>0.082978</td>\n",
              "      <td>0.929281</td>\n",
              "      <td>0.192358</td>\n",
              "      <td>0.930941</td>\n",
              "    </tr>\n",
              "    <tr>\n",
              "      <th>Сэмпл 8</th>\n",
              "      <td>0.108727</td>\n",
              "      <td>0.927863</td>\n",
              "      <td>0.233476</td>\n",
              "      <td>0.932472</td>\n",
              "    </tr>\n",
              "    <tr>\n",
              "      <th>среднегармонич.</th>\n",
              "      <td>0.086587</td>\n",
              "      <td>0.925972</td>\n",
              "      <td>0.215204</td>\n",
              "      <td>0.933124</td>\n",
              "    </tr>\n",
              "    <tr>\n",
              "      <th>станд. отклон.</th>\n",
              "      <td>0.011015</td>\n",
              "      <td>0.002684</td>\n",
              "      <td>0.018613</td>\n",
              "      <td>0.002382</td>\n",
              "    </tr>\n",
              "  </tbody>\n",
              "</table>\n",
              "</div>"
            ],
            "text/plain": [
              "                 f1 score  NDCG score  f1 score  NDCG score\n",
              "Сэмпл 1          0.075993    0.926014  0.239987    0.938084\n",
              "Сэмпл 2          0.099862    0.928198  0.229866    0.935087\n",
              "Сэмпл 3          0.080512    0.927673  0.226904    0.932296\n",
              "Сэмпл 4          0.085855    0.923390  0.192769    0.931380\n",
              "Сэмпл 5          0.081137    0.922561  0.213044    0.931590\n",
              "Сэмпл 6          0.086369    0.922849  0.204642    0.933182\n",
              "Сэмпл 7          0.082978    0.929281  0.192358    0.930941\n",
              "Сэмпл 8          0.108727    0.927863  0.233476    0.932472\n",
              "среднегармонич.  0.086587    0.925972  0.215204    0.933124\n",
              "станд. отклон.   0.011015    0.002684  0.018613    0.002382"
            ]
          },
          "execution_count": 45,
          "metadata": {},
          "output_type": "execute_result"
        }
      ],
      "source": [
        "# сводная таблица для DecisionTreeClassifier\n",
        "pd.concat([\n",
        "    model_pivot_table(res_tree),\n",
        "    model_pivot_table(res_tree_for_stemmed)\n",
        "], axis=1)"
      ]
    }
  ],
  "metadata": {
    "kernelspec": {
      "display_name": "Python 3",
      "language": "python",
      "name": "python3"
    },
    "language_info": {
      "codemirror_mode": {
        "name": "ipython",
        "version": 3
      },
      "file_extension": ".py",
      "mimetype": "text/x-python",
      "name": "python",
      "nbconvert_exporter": "python",
      "pygments_lexer": "ipython3",
      "version": "3.10.4"
    },
    "orig_nbformat": 4,
    "colab": {
      "provenance": []
    }
  },
  "nbformat": 4,
  "nbformat_minor": 0
}