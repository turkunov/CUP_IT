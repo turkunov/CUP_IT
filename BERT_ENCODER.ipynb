{
  "nbformat": 4,
  "nbformat_minor": 0,
  "metadata": {
    "colab": {
      "provenance": []
    },
    "kernelspec": {
      "name": "python3",
      "display_name": "Python 3"
    },
    "language_info": {
      "name": "python"
    },
    "gpuClass": "standard",
    "accelerator": "GPU"
  },
  "cells": [
    {
      "cell_type": "markdown",
      "source": [
        "BERT ENCODER\n",
        "---\n",
        "https://huggingface.co/bert-base-uncased"
      ],
      "metadata": {
        "id": "jaHIcTxps0Br"
      }
    },
    {
      "cell_type": "code",
      "source": [
        "from transformers import BertTokenizer, BertModel\n",
        "tokenizer = BertTokenizer.from_pretrained('bert-base-uncased')\n",
        "model = BertModel.from_pretrained(\"bert-base-uncased\")"
      ],
      "metadata": {
        "id": "VQOF5Avjpm7z"
      },
      "execution_count": null,
      "outputs": []
    },
    {
      "cell_type": "code",
      "source": [
        "import torch\n",
        "from transformers import AutoTokenizer, AutoModel, BertTokenizer\n",
        "\n",
        "sentences = train.full_text.iloc[:440535].values\n",
        "\n",
        "MAX_LEN = 128\n",
        "\n",
        "tokenizer = BertTokenizer.from_pretrained('bert-base-uncased',do_lower_case=True)\n",
        "\n",
        "chunk_size = 440535\n",
        "temp = 0\n",
        "i = 0\n",
        "while i != train.full_text.shape[0]:\n",
        "  if train.full_text.shape[0] - i < 440535:\n",
        "    i += train.full_text.shape[0] - i\n",
        "  else:\n",
        "    i += chunk_size\n",
        "  sentences = train.full_text.iloc[temp:i].values\n",
        "  input_ids = [tokenizer.encode(sent, add_special_tokens=True, truncation=True, max_length=MAX_LEN, pad_to_max_length=True, return_tensors='pt') for sent in sentences]\n",
        "  temp += i\n",
        "  # torch.save(input_ids, f'/content/drive/MyDrive/CUP IT/BERT_train_tensors/{i}.pt')"
      ],
      "metadata": {
        "id": "7DRDPCzo7dyJ"
      },
      "execution_count": null,
      "outputs": []
    },
    {
      "cell_type": "code",
      "source": [
        "# torch.load('/content/drive/MyDrive/CUP IT/NEW_BERT_train_tensors/440535.pt')"
      ],
      "metadata": {
        "id": "j7GFizxliygC"
      },
      "execution_count": null,
      "outputs": []
    }
  ]
}